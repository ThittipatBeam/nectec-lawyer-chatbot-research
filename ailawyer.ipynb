{
 "cells": [
  {
   "cell_type": "code",
   "execution_count": null,
   "metadata": {},
   "outputs": [],
   "source": [
    "!pip install -r requirements.txt"
   ]
  },
  {
   "cell_type": "code",
   "execution_count": null,
   "metadata": {},
   "outputs": [],
   "source": [
    "!nvidia-smi"
   ]
  },
  {
   "cell_type": "code",
   "execution_count": null,
   "metadata": {},
   "outputs": [],
   "source": [
    "import torch\n",
    "import fitz\n",
    "import os\n",
    "import re"
   ]
  },
  {
   "cell_type": "code",
   "execution_count": null,
   "metadata": {},
   "outputs": [],
   "source": [
    "import fitz"
   ]
  },
  {
   "cell_type": "markdown",
   "metadata": {},
   "source": [
    "# Data PreProcessing"
   ]
  },
  {
   "cell_type": "code",
   "execution_count": null,
   "metadata": {},
   "outputs": [],
   "source": [
    "pdf_directory = \"pdf\"\n",
    "\n",
    "pdf_files = [os.path.join(pdf_directory, file) for file in os.listdir(pdf_directory) if file.endswith('.pdf')]"
   ]
  },
  {
   "cell_type": "code",
   "execution_count": null,
   "metadata": {},
   "outputs": [],
   "source": [
    "docs = [fitz.open(pdf_file) for pdf_file in pdf_files]\n",
    "\n",
    "print(docs[0].page_count)"
   ]
  },
  {
   "cell_type": "code",
   "execution_count": null,
   "metadata": {},
   "outputs": [],
   "source": [
    "text = \"\"\n",
    "for page in docs[0]:\n",
    "    text += page.get_text()\n",
    "\n",
    "print(text)"
   ]
  },
  {
   "cell_type": "code",
   "execution_count": null,
   "metadata": {},
   "outputs": [],
   "source": [
    "pattern = r'\\b\\d+\\/\\d+\\/\\d+, \\d+:\\d+ [APM]+\\b|\\d+\\/\\d+\\b|https:\\/\\/.*\\/deka#'"
   ]
  },
  {
   "cell_type": "code",
   "execution_count": null,
   "metadata": {},
   "outputs": [],
   "source": [
    "cleaned_text = re.sub(pattern, '', text)"
   ]
  },
  {
   "cell_type": "code",
   "execution_count": null,
   "metadata": {},
   "outputs": [],
   "source": [
    "print(cleaned_text)"
   ]
  },
  {
   "cell_type": "markdown",
   "metadata": {},
   "source": [
    "# Embbedding"
   ]
  },
  {
   "cell_type": "code",
   "execution_count": null,
   "metadata": {},
   "outputs": [],
   "source": [
    "from langchain_community.embeddings import HuggingFaceInstructEmbeddings\n",
    "from langchain.text_splitter import RecursiveCharacterTextSplitter\n",
    "from langchain.vectorstores import Chroma"
   ]
  },
  {
   "cell_type": "code",
   "execution_count": null,
   "metadata": {},
   "outputs": [],
   "source": [
    "DEVICE = \"cuda:0\" if torch.cuda.is_available() else \"cpu\"\n",
    "\n",
    "embeddings = HuggingFaceInstructEmbeddings(\n",
    "    model_name = \"intfloat/multilingual-e5-large\",\n",
    "    model_kwargs={\"device\": DEVICE}\n",
    ")"
   ]
  },
  {
   "cell_type": "code",
   "execution_count": null,
   "metadata": {},
   "outputs": [],
   "source": [
    "text_splitter = RecursiveCharacterTextSplitter(\n",
    "    chunk_size=1024, \n",
    "    chunk_overlap=64,\n",
    "    separators=[\n",
    "        \"\\n\\n\",\n",
    "        \"\\n\",\n",
    "        \" \",\n",
    "        \".\",\n",
    "        \",\",\n",
    "        \"\\u200b\",  \n",
    "        \"\\uff0c\",  \n",
    "        \"\\u3001\",  \n",
    "        \"\\uff0e\",  \n",
    "        \"\\u3002\",  \n",
    "        \"\",\n",
    "    ],)\n",
    "\n",
    "split_text = text_splitter.split_text(cleaned_text)\n",
    "\n",
    "len(split_text)"
   ]
  },
  {
   "cell_type": "code",
   "execution_count": null,
   "metadata": {},
   "outputs": [],
   "source": [
    "print(split_text)"
   ]
  },
  {
   "cell_type": "code",
   "execution_count": null,
   "metadata": {},
   "outputs": [],
   "source": [
    "db = Chroma.from_texts(split_text, embeddings, persist_directory=\"db\")"
   ]
  },
  {
   "cell_type": "code",
   "execution_count": null,
   "metadata": {},
   "outputs": [],
   "source": [
    "db.similarity_search(\"มาตรา 383\")"
   ]
  },
  {
   "cell_type": "markdown",
   "metadata": {},
   "source": [
    "# Model Selection"
   ]
  },
  {
   "cell_type": "code",
   "execution_count": null,
   "metadata": {},
   "outputs": [],
   "source": [
    "from os.path import expanduser\n",
    "from langchain_community.llms import LlamaCpp\n",
    "from langchain_core.callbacks import CallbackManager, StreamingStdOutCallbackHandler\n",
    "from langchain_core.prompts import PromptTemplate\n",
    "from langchain.memory import ConversationBufferMemory\n",
    "from langchain.chains import ConversationalRetrievalChain\n",
    "from langchain.chains.summarize import load_summarize_chain\n",
    "from langchain.docstore.document import Document\n",
    "from langchain.chains import RetrievalQA"
   ]
  },
  {
   "cell_type": "code",
   "execution_count": null,
   "metadata": {},
   "outputs": [],
   "source": [
    "model_path_opt = expanduser(\"model/openthaigpt-1.0.0-beta-13b-chat.Q3_K_L.gguf\")\n",
    "model_path_sea = expanduser(\"model/seallm-7b-v2.5.Q4_K_M.gguf\")"
   ]
  },
  {
   "cell_type": "code",
   "execution_count": null,
   "metadata": {},
   "outputs": [],
   "source": [
    "callback_manager = CallbackManager([StreamingStdOutCallbackHandler()])\n",
    "\n",
    "llm_opt = LlamaCpp(\n",
    "    model_path=model_path_opt,\n",
    "    streaming=False,\n",
    "    n_gpu_layers=-1,\n",
    "    n_batch=512,\n",
    "    callback_manager=callback_manager,\n",
    "    verbose=True,\n",
    "    n_ctx=2048\n",
    ")"
   ]
  },
  {
   "cell_type": "code",
   "execution_count": null,
   "metadata": {},
   "outputs": [],
   "source": [
    "callback_manager = CallbackManager([StreamingStdOutCallbackHandler()])\n",
    "\n",
    "llm_sea = LlamaCpp(\n",
    "    model_path=model_path_sea,\n",
    "    streaming=False,\n",
    "    n_gpu_layers=-1,\n",
    "    n_batch=512,\n",
    "    callback_manager=callback_manager,\n",
    "    verbose=True,\n",
    "    n_ctx=3000,\n",
    "    repeat_penalty = 1\n",
    ")"
   ]
  },
  {
   "cell_type": "markdown",
   "metadata": {},
   "source": [
    "# Question and Answer"
   ]
  },
  {
   "cell_type": "markdown",
   "metadata": {},
   "source": [
    "OpentThaiGPT ConversationalRetrievalChain Prompt Template"
   ]
  },
  {
   "cell_type": "code",
   "execution_count": null,
   "metadata": {},
   "outputs": [],
   "source": [
    "template_opt_con = \"\"\"\n",
    "    [INST] <<SYS>>\n",
    "    You are an expert, helpful, respectful and honest Lawyer assistant. AIlways answer as helpfully as possible.Please ensure that your responses are socially unbiased and positive in nature.If a question does not make any sense, or is not factually coherent, explain why instead of answering something not correct. If you don't know the answer to a question, please don't share false information.\n",
    "    {context}\n",
    "    Use the following pieces of context to answer the question at the end. If you don't know the answer to a question, please don't share false information.\n",
    "    <</SYS>>\n",
    "    {chat_history}\n",
    "    {question} [/INST]\n",
    "\"\"\" "
   ]
  },
  {
   "cell_type": "markdown",
   "metadata": {},
   "source": [
    "OpentThaiGPT RetrievalQA Prompt Template "
   ]
  },
  {
   "cell_type": "code",
   "execution_count": null,
   "metadata": {},
   "outputs": [],
   "source": [
    "template_opt_qa = \"\"\"\n",
    "    [INST] <<SYS>>\n",
    "    You are an expert, helpful, respectful and honest Lawyer assistant. AIlways answer as helpfully as possible.Please ensure that your responses are socially unbiased and positive in nature.If a question does not make any sense, or is not factually coherent, explain why instead of answering something not correct. If you don't know the answer to a question, please don't share false information.\n",
    "    {context}\n",
    "    Use the following pieces of context to answer the question at the end. If you don't know the answer to a question, please don't share false information.\n",
    "    <</SYS>>\n",
    "    {question} [/INST]\n",
    "\"\"\"  # End of system message. Please"
   ]
  },
  {
   "cell_type": "markdown",
   "metadata": {},
   "source": [
    "SeaLLMs ConversationalRetrievalChain Prompt Template"
   ]
  },
  {
   "cell_type": "code",
   "execution_count": null,
   "metadata": {},
   "outputs": [],
   "source": [
    "template_sea_con =  \"\"\"<bos> \n",
    "    <|im_start|>system\n",
    "    You are an expert, helpful, respectful and honest Lawyer assistant. AIlways answer as helpfully as possible.Please ensure that your responses are socially unbiased and positive in nature.If a question does not make any sense, or is not factually coherent, explain why instead of answering something not correct. If you don't know the answer to a question, please don't share false information.\n",
    "    {context}\n",
    "    Use the following pieces of context to answer the question at the end. If you don't know the answer to a question, please don't share false information. and answer all the question in Thai language.\n",
    "    <eos>\n",
    "    <|im_start|>user\n",
    "    {chat_history}\n",
    "    {question}\n",
    "    <eos>\n",
    "\"\"\""
   ]
  },
  {
   "cell_type": "markdown",
   "metadata": {},
   "source": [
    "SeaLLMs RetrievalQA Prompt Template "
   ]
  },
  {
   "cell_type": "code",
   "execution_count": null,
   "metadata": {},
   "outputs": [],
   "source": [
    "template_sea_qa =  \"\"\"<bos> \n",
    "    <|im_start|>system\n",
    "    You are an expert, helpful, respectful and honest Lawyer assistant. AIlways answer as helpfully as possible.Please ensure that your responses are socially unbiased and positive in nature.If a question does not make any sense, or is not factually coherent, explain why instead of answering something not correct. If you don't know the answer to a question, please don't share false information.\n",
    "    {context}\n",
    "    Use the following pieces of context to answer the question at the end. If you don't know the answer to a question, please don't share false information.and answer all the question in Thai language.\n",
    "    <eos>\n",
    "    <|im_start|>user\n",
    "    {question}\n",
    "    <eos>\n",
    "\"\"\""
   ]
  },
  {
   "cell_type": "code",
   "execution_count": null,
   "metadata": {},
   "outputs": [],
   "source": [
    "memory_opt = ConversationBufferMemory (\n",
    "    memory_key=\"chat_history\",\n",
    "    human_prefix=\"### Input\",\n",
    "    ai_prefix=\"### Response\",\n",
    "    output_key='answer',\n",
    "    return_messages=True,\n",
    ")\n",
    "\n",
    "memory_sea = ConversationBufferMemory (\n",
    "    memory_key=\"chat_history\",\n",
    "    human_prefix=\"### Input\",\n",
    "    ai_prefix=\"### Response\",\n",
    "    output_key='answer',\n",
    "    return_messages=True,\n",
    ")"
   ]
  },
  {
   "cell_type": "code",
   "execution_count": null,
   "metadata": {},
   "outputs": [],
   "source": [
    "prompt_opt_con = PromptTemplate(template=template_opt_con, input_variables=[\"context\", \"question\"])\n",
    "prompt_opt_qa = PromptTemplate(template=template_opt_qa, input_variables=[\"context\", \"question\"])\n",
    "prompt_sea_con = PromptTemplate(template=template_sea_con, input_variables=[\"context\", \"question\"])\n",
    "prompt_sea_qa = PromptTemplate(template=template_sea_qa, input_variables=[\"context\", \"question\"])\n"
   ]
  },
  {
   "cell_type": "code",
   "execution_count": null,
   "metadata": {},
   "outputs": [],
   "source": [
    "chain_opt = ConversationalRetrievalChain.from_llm(\n",
    "    llm=llm_opt,\n",
    "    chain_type=\"stuff\",\n",
    "    retriever=db.as_retriever(search_type=\"similarity_score_threshold\", search_kwargs={\"score_threshold\": 0.7}),\n",
    "    memory=memory_opt,\n",
    "    combine_docs_chain_kwargs={\"prompt\": prompt_opt_con},\n",
    "    return_source_documents=True,\n",
    "    verbose=True,\n",
    ")\n",
    "\n",
    "chain_qa_opt = RetrievalQA.from_chain_type(\n",
    "    llm=llm_opt,\n",
    "    chain_type=\"stuff\",\n",
    "    retriever=db.as_retriever(search_type=\"similarity_score_threshold\", search_kwargs={\"score_threshold\": 0.7}),\n",
    "    return_source_documents=True,\n",
    "    chain_type_kwargs={\"prompt\": prompt_opt_qa},\n",
    "    verbose = True,\n",
    ")"
   ]
  },
  {
   "cell_type": "code",
   "execution_count": null,
   "metadata": {},
   "outputs": [],
   "source": [
    "chain_sea = ConversationalRetrievalChain.from_llm(\n",
    "    llm=llm_sea,\n",
    "    chain_type=\"stuff\",\n",
    "    retriever=db.as_retriever(search_type=\"similarity_score_threshold\", search_kwargs={\"score_threshold\": 0.5}),\n",
    "    memory=memory_sea,\n",
    "    combine_docs_chain_kwargs={\"prompt\": prompt_sea_con},\n",
    "    return_source_documents=True,\n",
    "    verbose=True,\n",
    ")\n",
    "\n",
    "chain_qa_sea = RetrievalQA.from_chain_type(\n",
    "    llm=llm_sea,\n",
    "    chain_type=\"stuff\",\n",
    "    retriever=db.as_retriever(search_type=\"similarity_score_threshold\", search_kwargs={\"score_threshold\": 0.5}),\n",
    "    return_source_documents=True,\n",
    "    chain_type_kwargs={\"prompt\": prompt_sea_qa},\n",
    "    verbose = True,\n",
    ")"
   ]
  },
  {
   "cell_type": "markdown",
   "metadata": {},
   "source": [
    "## Run Result for OpenThai-GPT (ConversationalRetrievalChain)"
   ]
  },
  {
   "cell_type": "code",
   "execution_count": null,
   "metadata": {},
   "outputs": [],
   "source": [
    "result1_opt = chain_opt(\"ยกเลิกสัญญาเช่ารถก่อนกำหนด ต้องจ่ายค่าเสียหายไหม?\")"
   ]
  },
  {
   "cell_type": "code",
   "execution_count": null,
   "metadata": {},
   "outputs": [],
   "source": [
    "print(result1_opt[\"answer\"])"
   ]
  },
  {
   "cell_type": "code",
   "execution_count": null,
   "metadata": {},
   "outputs": [],
   "source": [
    "result2_opt = chain_opt(\"ยกเลิกสัญญาเช่ารถก่อนกำหนด ต้องจ่าค่าเสียหายเต็มจำนวนไหม?\")"
   ]
  },
  {
   "cell_type": "code",
   "execution_count": null,
   "metadata": {},
   "outputs": [],
   "source": [
    "print(result2_opt[\"answer\"])"
   ]
  },
  {
   "cell_type": "code",
   "execution_count": null,
   "metadata": {},
   "outputs": [],
   "source": [
    "result3_opt = chain_opt(\"หากคำเสียหายในสัญญาเช่ารถสูงมากๆ กฎหมายข้อไหนช่วยได้บ้าง?\")"
   ]
  },
  {
   "cell_type": "code",
   "execution_count": null,
   "metadata": {},
   "outputs": [],
   "source": [
    "print(result3_opt[\"answer\"])"
   ]
  },
  {
   "cell_type": "code",
   "execution_count": null,
   "metadata": {},
   "outputs": [],
   "source": [
    "result4_opt = chain_opt(\"ดอกเบี้ยในสัญญาสามารถสูงสุดต่อปีได้ ร้อยละ เท่าไหร่?\")"
   ]
  },
  {
   "cell_type": "code",
   "execution_count": null,
   "metadata": {},
   "outputs": [],
   "source": [
    "print(result4_opt[\"answer\"])"
   ]
  },
  {
   "cell_type": "code",
   "execution_count": null,
   "metadata": {},
   "outputs": [],
   "source": [
    "result5_opt = chain_opt(\"อธิบายกฎหมาย ป.พ.พ มาตรา 383\")"
   ]
  },
  {
   "cell_type": "code",
   "execution_count": null,
   "metadata": {},
   "outputs": [],
   "source": [
    "print(result5_opt[\"answer\"])"
   ]
  },
  {
   "cell_type": "markdown",
   "metadata": {},
   "source": [
    "## Run Result for OpenThai-GPT (RetrievalQA)"
   ]
  },
  {
   "cell_type": "code",
   "execution_count": null,
   "metadata": {},
   "outputs": [],
   "source": [
    "result1_opt_qa = chain_qa_opt(\"ยกเลิกสัญญาเช่ารถก่อนกำหนด ต้องจ่ายค่าเสียหายไหม?\")"
   ]
  },
  {
   "cell_type": "code",
   "execution_count": null,
   "metadata": {},
   "outputs": [],
   "source": [
    "print(result1_opt_qa[\"result\"])"
   ]
  },
  {
   "cell_type": "code",
   "execution_count": null,
   "metadata": {},
   "outputs": [],
   "source": [
    "result2_opt_qa = chain_qa_opt(\"ยกเลิกสัญญาเช่ารถก่อนกำหนด ต้องจ่าค่าเสียหายเต็มจำนวนไหม?\")"
   ]
  },
  {
   "cell_type": "code",
   "execution_count": null,
   "metadata": {},
   "outputs": [],
   "source": [
    "print(result2_opt_qa[\"result\"])"
   ]
  },
  {
   "cell_type": "code",
   "execution_count": null,
   "metadata": {},
   "outputs": [],
   "source": [
    "result3_opt_qa = chain_qa_opt(\"หากคำเสียหายในสัญญาเช่ารถสูงมากๆ กฎหมายข้อไหนช่วยได้บ้าง?\")"
   ]
  },
  {
   "cell_type": "code",
   "execution_count": null,
   "metadata": {},
   "outputs": [],
   "source": [
    "print(result3_opt_qa[\"result\"])"
   ]
  },
  {
   "cell_type": "code",
   "execution_count": null,
   "metadata": {},
   "outputs": [],
   "source": [
    "result4_opt_qa = chain_qa_opt(\"ดอกเบี้ยในสัญญาสามารถสูงสุดต่อปีได้ ร้อยละ เท่าไหร่?\")"
   ]
  },
  {
   "cell_type": "code",
   "execution_count": null,
   "metadata": {},
   "outputs": [],
   "source": [
    "print(result4_opt_qa[\"result\"])"
   ]
  },
  {
   "cell_type": "code",
   "execution_count": null,
   "metadata": {},
   "outputs": [],
   "source": [
    "result5_opt_qa = chain_qa_opt(\"อธิบายกฎหมาย ป.พ.พ มาตรา 383\")"
   ]
  },
  {
   "cell_type": "code",
   "execution_count": null,
   "metadata": {},
   "outputs": [],
   "source": [
    "print(result5_opt_qa[\"result\"])"
   ]
  },
  {
   "cell_type": "markdown",
   "metadata": {},
   "source": [
    "## Run Result for SeaLLM (ConversationalRetrievalChain)"
   ]
  },
  {
   "cell_type": "code",
   "execution_count": null,
   "metadata": {},
   "outputs": [],
   "source": [
    "result1_sea = chain_sea(\"ยกเลิกสัญญาเช่ารถก่อนกำหนด ต้องจ่ายค่าเสียหายไหม?\")"
   ]
  },
  {
   "cell_type": "code",
   "execution_count": null,
   "metadata": {},
   "outputs": [],
   "source": [
    "print(result1_sea[\"answer\"])"
   ]
  },
  {
   "cell_type": "code",
   "execution_count": null,
   "metadata": {},
   "outputs": [],
   "source": [
    "result2_sea = chain_sea(\"ยกเลิกสัญญาเช่ารถก่อนกำหนด ต้องจ่าค่าเสียหายเต็มจำนวนไหม?\")"
   ]
  },
  {
   "cell_type": "code",
   "execution_count": null,
   "metadata": {},
   "outputs": [],
   "source": [
    "print(result2_sea[\"answer\"])"
   ]
  },
  {
   "cell_type": "code",
   "execution_count": null,
   "metadata": {},
   "outputs": [],
   "source": [
    "result3_sea = chain_sea(\"หากคำเสียหายในสัญญาเช่ารถสูงมากๆ กฎหมายข้อไหนช่วยได้บ้าง?\")"
   ]
  },
  {
   "cell_type": "code",
   "execution_count": null,
   "metadata": {},
   "outputs": [],
   "source": [
    "print(result3_sea[\"answer\"])"
   ]
  },
  {
   "cell_type": "code",
   "execution_count": null,
   "metadata": {},
   "outputs": [],
   "source": [
    "result4_sea = chain_sea(\"ดอกเบี้ยในสัญญาสามารถสูงสุดต่อปีได้ ร้อยละ เท่าไหร่?\")"
   ]
  },
  {
   "cell_type": "code",
   "execution_count": null,
   "metadata": {},
   "outputs": [],
   "source": [
    "print(result4_sea[\"answer\"])"
   ]
  },
  {
   "cell_type": "code",
   "execution_count": null,
   "metadata": {},
   "outputs": [],
   "source": [
    "result5_sea = chain_sea(\"อธิบายกฎหมาย ป.พ.พ มาตรา 383\")"
   ]
  },
  {
   "cell_type": "code",
   "execution_count": null,
   "metadata": {},
   "outputs": [],
   "source": [
    "print(result5_sea[\"answer\"])"
   ]
  },
  {
   "cell_type": "markdown",
   "metadata": {},
   "source": [
    "## Run Result for SeaLLM (RetrievalQA)"
   ]
  },
  {
   "cell_type": "code",
   "execution_count": null,
   "metadata": {},
   "outputs": [],
   "source": [
    "result1_sea_qa = chain_qa_sea(\"ยกเลิกสัญญาเช่ารถก่อนกำหนด ต้องจ่ายค่าเสียหายไหม?\")"
   ]
  },
  {
   "cell_type": "code",
   "execution_count": null,
   "metadata": {},
   "outputs": [],
   "source": [
    "print(result1_sea_qa[\"result\"])"
   ]
  },
  {
   "cell_type": "code",
   "execution_count": null,
   "metadata": {},
   "outputs": [],
   "source": [
    "result2_sea_qa = chain_qa_sea(\"ยกเลิกสัญญาเช่ารถก่อนกำหนด ต้องจ่าค่าเสียหายเต็มจำนวนไหม?\")"
   ]
  },
  {
   "cell_type": "code",
   "execution_count": null,
   "metadata": {},
   "outputs": [],
   "source": [
    "print(result2_sea_qa[\"result\"])"
   ]
  },
  {
   "cell_type": "code",
   "execution_count": null,
   "metadata": {},
   "outputs": [],
   "source": [
    "result3_sea_qa = chain_qa_sea(\"หากคำเสียหายในสัญญาเช่ารถสูงมากๆ กฎหมายข้อไหนช่วยได้บ้าง?\")"
   ]
  },
  {
   "cell_type": "code",
   "execution_count": null,
   "metadata": {},
   "outputs": [],
   "source": [
    "print(result3_sea_qa[\"result\"])"
   ]
  },
  {
   "cell_type": "code",
   "execution_count": null,
   "metadata": {},
   "outputs": [],
   "source": [
    "result4_sea_qa = chain_qa_sea(\"ดอกเบี้ยในสัญญาสามารถสูงสุดต่อปีได้ ร้อยละ เท่าไหร่?\")"
   ]
  },
  {
   "cell_type": "code",
   "execution_count": null,
   "metadata": {},
   "outputs": [],
   "source": [
    "print(result4_sea_qa[\"result\"])"
   ]
  },
  {
   "cell_type": "code",
   "execution_count": null,
   "metadata": {},
   "outputs": [],
   "source": [
    "result5_sea_qa = chain_qa_sea(\"อธิบายกฎหมาย ป.พ.พ มาตรา 383\")"
   ]
  },
  {
   "cell_type": "code",
   "execution_count": null,
   "metadata": {},
   "outputs": [],
   "source": [
    "print(result5_sea_qa[\"result\"])"
   ]
  }
 ],
 "metadata": {
  "kernelspec": {
   "display_name": "ailawyer_real",
   "language": "python",
   "name": "python3"
  },
  "language_info": {
   "codemirror_mode": {
    "name": "ipython",
    "version": 3
   },
   "file_extension": ".py",
   "mimetype": "text/x-python",
   "name": "python",
   "nbconvert_exporter": "python",
   "pygments_lexer": "ipython3",
   "version": "3.12.3"
  }
 },
 "nbformat": 4,
 "nbformat_minor": 2
}
