{
 "cells": [
  {
   "cell_type": "code",
   "execution_count": null,
   "metadata": {},
   "outputs": [],
   "source": [
    "!pip install -r requirements.txt"
   ]
  },
  {
   "cell_type": "code",
   "execution_count": 307,
   "metadata": {},
   "outputs": [
    {
     "name": "stdout",
     "output_type": "stream",
     "text": [
      "Wed May 15 05:53:13 2024       \n",
      "+-----------------------------------------------------------------------------------------+\n",
      "| NVIDIA-SMI 552.44                 Driver Version: 552.44         CUDA Version: 12.4     |\n",
      "|-----------------------------------------+------------------------+----------------------+\n",
      "| GPU  Name                     TCC/WDDM  | Bus-Id          Disp.A | Volatile Uncorr. ECC |\n",
      "| Fan  Temp   Perf          Pwr:Usage/Cap |           Memory-Usage | GPU-Util  Compute M. |\n",
      "|                                         |                        |               MIG M. |\n",
      "|=========================================+========================+======================|\n",
      "|   0  NVIDIA GeForce RTX 3060 ...  WDDM  |   00000000:01:00.0 Off |                  N/A |\n",
      "| N/A   60C    P0             28W /   85W |     388MiB /   6144MiB |      8%      Default |\n",
      "|                                         |                        |                  N/A |\n",
      "+-----------------------------------------+------------------------+----------------------+\n",
      "                                                                                         \n",
      "+-----------------------------------------------------------------------------------------+\n",
      "| Processes:                                                                              |\n",
      "|  GPU   GI   CI        PID   Type   Process name                              GPU Memory |\n",
      "|        ID   ID                                                               Usage      |\n",
      "|=========================================================================================|\n",
      "|    0   N/A  N/A      3096    C+G   ...CBS_cw5n1h2txyewy\\TextInputHost.exe      N/A      |\n",
      "|    0   N/A  N/A      3992    C+G   ...ekyb3d8bbwe\\PhoneExperienceHost.exe      N/A      |\n",
      "|    0   N/A  N/A      5824    C+G   ...2txyewy\\StartMenuExperienceHost.exe      N/A      |\n",
      "|    0   N/A  N/A      9776    C+G   ...wekyb3d8bbwe\\XboxGameBarWidgets.exe      N/A      |\n",
      "|    0   N/A  N/A     10840    C+G   ...ejd91yc\\AdobeNotificationClient.exe      N/A      |\n",
      "|    0   N/A  N/A     14504    C+G   ...nt.CBS_cw5n1h2txyewy\\SearchHost.exe      N/A      |\n",
      "|    0   N/A  N/A     16032    C+G   ...ell\\Dell Peripheral Manager\\DPM.exe      N/A      |\n",
      "|    0   N/A  N/A     18496    C+G   ...Programs\\Microsoft VS Code\\Code.exe      N/A      |\n",
      "|    0   N/A  N/A     18600    C+G   ...t.LockApp_cw5n1h2txyewy\\LockApp.exe      N/A      |\n",
      "|    0   N/A  N/A     18940    C+G   ...ta\\Local\\Programs\\Notion\\Notion.exe      N/A      |\n",
      "|    0   N/A  N/A     23920    C+G   ..._8wekyb3d8bbwe\\Microsoft.Photos.exe      N/A      |\n",
      "+-----------------------------------------------------------------------------------------+\n"
     ]
    }
   ],
   "source": [
    "!nvidia-smi"
   ]
  },
  {
   "cell_type": "code",
   "execution_count": 308,
   "metadata": {},
   "outputs": [],
   "source": [
    "import torch\n",
    "import fitz\n",
    "import os\n",
    "import re"
   ]
  },
  {
   "cell_type": "code",
   "execution_count": 309,
   "metadata": {},
   "outputs": [],
   "source": [
    "import fitz"
   ]
  },
  {
   "cell_type": "markdown",
   "metadata": {},
   "source": [
    "# Data PreProcessing"
   ]
  },
  {
   "cell_type": "code",
   "execution_count": 310,
   "metadata": {},
   "outputs": [],
   "source": [
    "pdf_directory = \"pdf\"\n",
    "\n",
    "pdf_files = [os.path.join(pdf_directory, file) for file in os.listdir(pdf_directory) if file.endswith('.pdf')]"
   ]
  },
  {
   "cell_type": "code",
   "execution_count": 311,
   "metadata": {},
   "outputs": [
    {
     "name": "stdout",
     "output_type": "stream",
     "text": [
      "3\n"
     ]
    }
   ],
   "source": [
    "docs = [fitz.open(pdf_file) for pdf_file in pdf_files]\n",
    "\n",
    "print(docs[0].page_count)"
   ]
  },
  {
   "cell_type": "code",
   "execution_count": 312,
   "metadata": {},
   "outputs": [
    {
     "name": "stdout",
     "output_type": "stream",
     "text": [
      "4/3/24, 4:21 AM\n",
      "4290/2566\n",
      "https://deka.supremecourt.or.th/printing/deka#\n",
      "1/3\n",
      "ฎีกาตัดสินเกี่ยวกับปัญหาข้อกฎหมาย\n",
      "คำพิพากษาศาลฎีกาที่ 4290/2566\n",
      "บริษัท พ.\n",
      "โจทก์\n",
      "บริษัท อ.\n",
      "จำเลย\n",
      "ป.พ.พ. มาตรา 383 วรรค หนึ่ง\n",
      "สัญญาเช่ารถยนต์ ข้อ 9.2 กำหนดว่า “ในกรณีที่ผู้เช่าต้องการเลิกสัญญาก่อนกำหนด โดยมิใช่เป็นความผิดของผู้ให้เช่า ผู้เช่า\n",
      "ต้องแจ้งให้ผู้ให้เช่าทราบล่วงหน้าเป็นลายลักษณ์อักษรไม่น้อยกว่า 30 วัน ทั้งนี้ผู้เช่าต้องชำระค่าเสียหายให้แก่ผู้ให้เช่าตามเงื่อนไข\n",
      "ดังนี้... 9.2.2 กรณียกเลิกสัญญาในปีที่ 2 ผู้เช่าต้องชำระค่าเสียหายเป็นจำนวนเงินเท่ากับร้อยละ 40 ของยอดค่าเช่าพึงชำระ นับตั้งแต่\n",
      "วันบอกเลิกสัญญาจนถึงวันสิ้นสุดสัญญา...” สัญญาเช่ารถยนต์ดังกล่าวเป็นการให้เช่าแบบลิสซิ่งซึ่งมีกำหนดระยะเวลาเช่า 5 ปี หาก\n",
      "ครบกำหนดโจทก์จะได้รับค่าเช่า 876,000 บาท แต่การที่จำเลยบอกเลิกสัญญาโดยการคืนรถยนต์ที่เช่าและให้โจทก์รับรถวันที่ 19\n",
      "มีนาคม 2561 หลังจากทำสัญญาเช่าเพียง 1 ปี 4 เดือน 19 วัน โจทก์ได้รับค่าเช่าเพียง 242,548.39 บาท จึงไม่ได้รับค่าเช่าส่วนที่\n",
      "เหลือ 633,451.61 บาท แต่อย่างไรก็ตามสัญญา ข้อ 9.2.2 ดังกล่าวเป็นการกำหนดค่าเสียหายไว้ล่วงหน้าอันมีลักษณะเป็นเบี้ยปรับ\n",
      "ซึ่งหากกำหนดไว้สูงเกินส่วน ศาลมีอำนาจลดลงเป็นจำนวนพอสมควรได้ตาม ป.พ.พ. มาตรา 383 วรรคหนึ่ง\n",
      "___________________________\n",
      "โจทก์ฟ้องขอให้บังคับจำเลยชำระเงิน 253,380.65 บาท พร้อมดอกเบี้ยอัตราร้อยละ 7.5 ต่อปี นับแต่วันฟ้องเป็นต้นไป\n",
      "จนกว่าจะชำระเสร็จ\n",
      "จำเลยให้การขอให้ยกฟ้อง\n",
      "ศาลชั้นต้นพิพากษายกฟ้อง ค่าฤชาธรรมเนียมและค่าใช้จ่ายในการดำเนินคดีให้เป็นพับ\n",
      "โจทก์อุทธรณ์\n",
      "ศาลอุทธรณ์พิพากษายืน ค่าฤชาธรรมเนียมชั้นอุทธรณ์ให้เป็นพับ\n",
      "โจทก์ฎีกา โดยได้รับอนุญาตจากศาลฎีกา\n",
      "ศาลฎีกาวินิจฉัยว่า ข้อเท็จจริงที่คู่ความไม่โต้แย้งกันในชั้นฎีการับฟังเป็นยุติว่า โจทก์เป็นนิติบุคคลมีวัตถุประสงค์หลาย\n",
      "ประการรวมให้เช่ายานพาหนะ จำเลยเป็นนิติบุคคลมีวัตถุประสงค์ประกอบกิจการขนส่งและขนถ่ายสินค้า วันที่ 1 พฤศจิกายน 2559\n",
      "จำเลยทำสัญญาเช่ารถยนต์กระบะยี่ห้อโตโยต้า จากโจทก์ตามสัญญาเช่ารถยนต์ ต่อมาจำเลยผิดนัดไม่ชำระค่าเช่า โจทก์ส่งใบแจ้งหนี้\n",
      "ให้จำเลยชำระค่าเช่า จากนั้นวันที่ 16 มีนาคม 2561 จำเลยส่งจดหมายอิเล็กทรอนิกส์ถึงโจทก์ แจ้งให้ไปรับรถยนต์ที่เช่าคืนวันที่ 19\n",
      "มีนาคม 2561 โจทก์รับรถยนต์ที่เช่าคืนแล้ว และจำเลยชำระค่าเช่าที่ค้างให้โจทก์ครบถ้วนตามใบแจ้งหนี้และสำเนาใบเสร็จรับเงินแล้ว\n",
      "4/3/24, 4:21 AM\n",
      "4290/2566\n",
      "https://deka.supremecourt.or.th/printing/deka#\n",
      "2/3\n",
      "มีปัญหาต้องวินิจฉัยตามฎีกาของโจทก์ว่า โจทก์มีสิทธิเรียกค่าเสียหายจากจำเลยหรือไม่ โจทก์ฎีกาได้ความว่า สัญญาเช่า\n",
      "รถยนต์ ข้อ 9.2 กำหนดว่า “ในกรณีที่ผู้เช่าต้องการเลิกสัญญาก่อนกำหนด โดยมิใช่เป็นความผิดของผู้ให้เช่า ผู้เช่าต้องแจ้งให้ผู้ให้เช่า\n",
      "ทราบล่วงหน้าเป็นลายลักษณ์อักษรไม่น้อยกว่า 30 วัน ทั้งนี้ผู้เช่าต้องชำระค่าเสียหายให้แก่ผู้ให้เช่าตามเงื่อนไขดังนี้... 9.2.2 กรณี\n",
      "ยกเลิกสัญญาในปีที่ 2 ผู้เช่าต้องชำระค่าเสียหายเป็นจำนวนเงินเท่ากับร้อยละ 40 ของยอดค่าเช่าพึงชำระ นับตั้งแต่วันบอกเลิกสัญญา\n",
      "จนถึงวันสิ้นสุดสัญญา...” เห็นว่า สัญญาเช่ารถยนต์ดังกล่าวเป็นการให้เช่าแบบลิสซิ่งซึ่งมีกำหนดระยะเวลาเช่า 5 ปี หากครบกำหนด\n",
      "โจทก์จะได้รับค่าเช่า 876,000 บาท แต่การที่จำเลยบอกเลิกสัญญาโดยการคืนรถยนต์ที่เช่าและให้โจทก์รับรถวันที่ 19 มีนาคม 2561\n",
      "ตามจดหมายอิเล็กทรอนิกส์ลงวันที่ 16 มีนาคม 2561 หลังจากทำสัญญาเช่าเพียง 1 ปี 4 เดือน 19 วัน โจทก์ได้รับค่าเช่าเพียง\n",
      "242,548.39 บาท จึงไม่ได้รับค่าเช่าส่วนที่เหลือ 633,451.61 บาท แต่อย่างไรก็ตามสัญญา ข้อ 9.2.2 ดังกล่าวเป็นการกำหนดค่าเสีย\n",
      "หายไว้ล่วงหน้าอันมีลักษณะเป็นเบี้ยปรับ ซึ่งหากกำหนดไว้สูงเกินส่วน ศาลมีอำนาจลดลงเป็นจำนวนพอสมควรได้ตามประมวล\n",
      "กฎหมายแพ่งและพาณิชย์ มาตรา 383 วรรคหนึ่ง เมื่อพิเคราะห์ถึงทางได้เสียของโจทก์ทุกอย่างอันชอบด้วยกฎหมายแล้ว และได้\n",
      "ความว่าโจทก์ส่งใบแจ้งหนี้ให้จำเลยชำระค่าปรับคืนรถก่อนกำหนดเป็นเงิน 253,380.65 บาท ตามใบแจ้งหนี้ลงวันที่ 12 เมษายน\n",
      "2561 นั้น นับว่าสูงเกินส่วนเห็นสมควรปรับลดลงและกำหนดค่าเสียหายในส่วนนี้แก่โจทก์ร้อยละ 10 ของเงิน 633,451.61 บาท เป็น\n",
      "เงิน 63,345.16 บาท ที่ศาลล่างทั้งสองพิพากษามานั้น ศาลฎีกาไม่เห็นพ้องด้วย ฎีกาของโจทก์ฟังขึ้นบางส่วน\n",
      "อนึ่ง ระหว่างการพิจารณาของศาลอุทธรณ์ ได้มีพระราชกำหนดแก้ไขเพิ่มเติมประมวลกฎหมายแพ่งและพาณิชย์ พ.ศ. 2564\n",
      "ให้ยกเลิกความในมาตรา 7 และมาตรา 224 แห่งประมวลกฎหมายแพ่งและพาณิชย์ และให้ใช้ข้อความที่บัญญัติขึ้นใหม่แทนซึ่งมีผลให้\n",
      "กรณีที่ต้องเสียดอกเบี้ยแก่กันและมิได้กำหนดอัตราดอกเบี้ยไว้โดยนิติกรรมหรือโดยบทกฎหมายอันชัดแจ้ง ให้ใช้อัตราร้อยละ 3 ต่อปี\n",
      "และกรณีหนี้เงินให้คิดดอกเบี้ยในระหว่างผิดนัดในอัตราที่กำหนดตามมาตรา 7 บวกด้วยอัตราเพิ่มร้อยละ 2 ต่อปี เว้นแต่เจ้าหนี้อาจจะ\n",
      "เรียกดอกเบี้ยได้สูงกว่านั้นโดยอาศัยเหตุอย่างอื่นอันชอบด้วยกฎหมาย โดยมีผลใช้บังคับตั้งแต่วันที่ 11 เมษายน 2564 เป็นต้นไป แต่\n",
      "ไม่กระทบกระเทือนถึงการคิดดอกเบี้ยผิดนัดในระหว่างช่วงเวลาก่อนที่พระราชกำหนดนี้ใช้บังคับ การกำหนดอัตราดอกเบี้ยตาม\n",
      "กฎหมายเป็นข้อกฎหมายอันเกี่ยวด้วยความสงบเรียบร้อยของประชาชน ศาลฎีกามีอำนาจยกขึ้นวินิจฉัยและแก้ไขให้ถูกต้องได้ตาม\n",
      "ประมวลกฎหมายวิธีพิจารณาความแพ่ง มาตรา 142 (5) ประกอบมาตรา 246 และมาตรา 252\n",
      "พิพากษากลับ ให้จำเลยชำระเงิน 63,345.16 บาท พร้อมดอกเบี้ยอัตราร้อยละ 7.5 ต่อปี นับแต่วันฟ้อง (ฟ้องวันที่ 26\n",
      "กันยายน 2562) จนถึงวันที่ 10 เมษายน 2564 และอัตราร้อยละ 5 ต่อปี ตั้งแต่วันที่ 11 เมษายน 2564 เป็นต้นไปจนกว่าจะชำระเสร็จ\n",
      "แก่โจทก์ อัตราดอกเบี้ยตั้งแต่วันที่ 11 เมษายน 2564 นั้น ถ้ากระทรวงการคลังปรับเปลี่ยนโดยตราเป็นพระราชกฤษฎีกาเมื่อใดก็ให้\n",
      "ปรับเปลี่ยนไปตามนั้นบวกด้วยอัตราเพิ่มร้อยละ 2 ต่อปี แต่ต้องไม่เกินอัตราร้อยละ 7.5 ต่อปี ตามขอ ค่าฤชาธรรมเนียมทั้งสามศาลให้\n",
      "เป็นพับ\n",
      "(สุภัทร์ สุทธิมนัส-วยุรี วัฒนวรลักษณ์-ธีระ เบญจรัศมีโรจน์)\n",
      "ศาลแพ่งพระโขนง - นางสาวจุฬาลักษณ์ ตันติกุลานันท์\n",
      "ศาลอุทธรณ์ - นายกันตธรณ์ กันตธนาธรณ์\n",
      "แหล่งที่มา\n",
      "กองผู้ช่วยผู้พิพากษาศาลฎีกา\n",
      "4/3/24, 4:21 AM\n",
      "4290/2566\n",
      "https://deka.supremecourt.or.th/printing/deka#\n",
      "3/3\n",
      "แผนก\n",
      "หมายเลขคดีแดงศาลชั้นต้น\n",
      "หมายเหตุ\n",
      "\n"
     ]
    }
   ],
   "source": [
    "text = \"\"\n",
    "for page in docs[0]:\n",
    "    text += page.get_text()\n",
    "\n",
    "print(text)"
   ]
  },
  {
   "cell_type": "code",
   "execution_count": 313,
   "metadata": {},
   "outputs": [],
   "source": [
    "pattern = r'\\b\\d+\\/\\d+\\/\\d+, \\d+:\\d+ [APM]+\\b|\\d+\\/\\d+\\b|https:\\/\\/.*\\/deka#'"
   ]
  },
  {
   "cell_type": "code",
   "execution_count": 314,
   "metadata": {},
   "outputs": [],
   "source": [
    "cleaned_text = re.sub(pattern, '', text)"
   ]
  },
  {
   "cell_type": "code",
   "execution_count": 315,
   "metadata": {},
   "outputs": [
    {
     "name": "stdout",
     "output_type": "stream",
     "text": [
      "\n",
      "\n",
      "\n",
      "\n",
      "ฎีกาตัดสินเกี่ยวกับปัญหาข้อกฎหมาย\n",
      "คำพิพากษาศาลฎีกาที่ \n",
      "บริษัท พ.\n",
      "โจทก์\n",
      "บริษัท อ.\n",
      "จำเลย\n",
      "ป.พ.พ. มาตรา 383 วรรค หนึ่ง\n",
      "สัญญาเช่ารถยนต์ ข้อ 9.2 กำหนดว่า “ในกรณีที่ผู้เช่าต้องการเลิกสัญญาก่อนกำหนด โดยมิใช่เป็นความผิดของผู้ให้เช่า ผู้เช่า\n",
      "ต้องแจ้งให้ผู้ให้เช่าทราบล่วงหน้าเป็นลายลักษณ์อักษรไม่น้อยกว่า 30 วัน ทั้งนี้ผู้เช่าต้องชำระค่าเสียหายให้แก่ผู้ให้เช่าตามเงื่อนไข\n",
      "ดังนี้... 9.2.2 กรณียกเลิกสัญญาในปีที่ 2 ผู้เช่าต้องชำระค่าเสียหายเป็นจำนวนเงินเท่ากับร้อยละ 40 ของยอดค่าเช่าพึงชำระ นับตั้งแต่\n",
      "วันบอกเลิกสัญญาจนถึงวันสิ้นสุดสัญญา...” สัญญาเช่ารถยนต์ดังกล่าวเป็นการให้เช่าแบบลิสซิ่งซึ่งมีกำหนดระยะเวลาเช่า 5 ปี หาก\n",
      "ครบกำหนดโจทก์จะได้รับค่าเช่า 876,000 บาท แต่การที่จำเลยบอกเลิกสัญญาโดยการคืนรถยนต์ที่เช่าและให้โจทก์รับรถวันที่ 19\n",
      "มีนาคม 2561 หลังจากทำสัญญาเช่าเพียง 1 ปี 4 เดือน 19 วัน โจทก์ได้รับค่าเช่าเพียง 242,548.39 บาท จึงไม่ได้รับค่าเช่าส่วนที่\n",
      "เหลือ 633,451.61 บาท แต่อย่างไรก็ตามสัญญา ข้อ 9.2.2 ดังกล่าวเป็นการกำหนดค่าเสียหายไว้ล่วงหน้าอันมีลักษณะเป็นเบี้ยปรับ\n",
      "ซึ่งหากกำหนดไว้สูงเกินส่วน ศาลมีอำนาจลดลงเป็นจำนวนพอสมควรได้ตาม ป.พ.พ. มาตรา 383 วรรคหนึ่ง\n",
      "___________________________\n",
      "โจทก์ฟ้องขอให้บังคับจำเลยชำระเงิน 253,380.65 บาท พร้อมดอกเบี้ยอัตราร้อยละ 7.5 ต่อปี นับแต่วันฟ้องเป็นต้นไป\n",
      "จนกว่าจะชำระเสร็จ\n",
      "จำเลยให้การขอให้ยกฟ้อง\n",
      "ศาลชั้นต้นพิพากษายกฟ้อง ค่าฤชาธรรมเนียมและค่าใช้จ่ายในการดำเนินคดีให้เป็นพับ\n",
      "โจทก์อุทธรณ์\n",
      "ศาลอุทธรณ์พิพากษายืน ค่าฤชาธรรมเนียมชั้นอุทธรณ์ให้เป็นพับ\n",
      "โจทก์ฎีกา โดยได้รับอนุญาตจากศาลฎีกา\n",
      "ศาลฎีกาวินิจฉัยว่า ข้อเท็จจริงที่คู่ความไม่โต้แย้งกันในชั้นฎีการับฟังเป็นยุติว่า โจทก์เป็นนิติบุคคลมีวัตถุประสงค์หลาย\n",
      "ประการรวมให้เช่ายานพาหนะ จำเลยเป็นนิติบุคคลมีวัตถุประสงค์ประกอบกิจการขนส่งและขนถ่ายสินค้า วันที่ 1 พฤศจิกายน 2559\n",
      "จำเลยทำสัญญาเช่ารถยนต์กระบะยี่ห้อโตโยต้า จากโจทก์ตามสัญญาเช่ารถยนต์ ต่อมาจำเลยผิดนัดไม่ชำระค่าเช่า โจทก์ส่งใบแจ้งหนี้\n",
      "ให้จำเลยชำระค่าเช่า จากนั้นวันที่ 16 มีนาคม 2561 จำเลยส่งจดหมายอิเล็กทรอนิกส์ถึงโจทก์ แจ้งให้ไปรับรถยนต์ที่เช่าคืนวันที่ 19\n",
      "มีนาคม 2561 โจทก์รับรถยนต์ที่เช่าคืนแล้ว และจำเลยชำระค่าเช่าที่ค้างให้โจทก์ครบถ้วนตามใบแจ้งหนี้และสำเนาใบเสร็จรับเงินแล้ว\n",
      "\n",
      "\n",
      "\n",
      "\n",
      "มีปัญหาต้องวินิจฉัยตามฎีกาของโจทก์ว่า โจทก์มีสิทธิเรียกค่าเสียหายจากจำเลยหรือไม่ โจทก์ฎีกาได้ความว่า สัญญาเช่า\n",
      "รถยนต์ ข้อ 9.2 กำหนดว่า “ในกรณีที่ผู้เช่าต้องการเลิกสัญญาก่อนกำหนด โดยมิใช่เป็นความผิดของผู้ให้เช่า ผู้เช่าต้องแจ้งให้ผู้ให้เช่า\n",
      "ทราบล่วงหน้าเป็นลายลักษณ์อักษรไม่น้อยกว่า 30 วัน ทั้งนี้ผู้เช่าต้องชำระค่าเสียหายให้แก่ผู้ให้เช่าตามเงื่อนไขดังนี้... 9.2.2 กรณี\n",
      "ยกเลิกสัญญาในปีที่ 2 ผู้เช่าต้องชำระค่าเสียหายเป็นจำนวนเงินเท่ากับร้อยละ 40 ของยอดค่าเช่าพึงชำระ นับตั้งแต่วันบอกเลิกสัญญา\n",
      "จนถึงวันสิ้นสุดสัญญา...” เห็นว่า สัญญาเช่ารถยนต์ดังกล่าวเป็นการให้เช่าแบบลิสซิ่งซึ่งมีกำหนดระยะเวลาเช่า 5 ปี หากครบกำหนด\n",
      "โจทก์จะได้รับค่าเช่า 876,000 บาท แต่การที่จำเลยบอกเลิกสัญญาโดยการคืนรถยนต์ที่เช่าและให้โจทก์รับรถวันที่ 19 มีนาคม 2561\n",
      "ตามจดหมายอิเล็กทรอนิกส์ลงวันที่ 16 มีนาคม 2561 หลังจากทำสัญญาเช่าเพียง 1 ปี 4 เดือน 19 วัน โจทก์ได้รับค่าเช่าเพียง\n",
      "242,548.39 บาท จึงไม่ได้รับค่าเช่าส่วนที่เหลือ 633,451.61 บาท แต่อย่างไรก็ตามสัญญา ข้อ 9.2.2 ดังกล่าวเป็นการกำหนดค่าเสีย\n",
      "หายไว้ล่วงหน้าอันมีลักษณะเป็นเบี้ยปรับ ซึ่งหากกำหนดไว้สูงเกินส่วน ศาลมีอำนาจลดลงเป็นจำนวนพอสมควรได้ตามประมวล\n",
      "กฎหมายแพ่งและพาณิชย์ มาตรา 383 วรรคหนึ่ง เมื่อพิเคราะห์ถึงทางได้เสียของโจทก์ทุกอย่างอันชอบด้วยกฎหมายแล้ว และได้\n",
      "ความว่าโจทก์ส่งใบแจ้งหนี้ให้จำเลยชำระค่าปรับคืนรถก่อนกำหนดเป็นเงิน 253,380.65 บาท ตามใบแจ้งหนี้ลงวันที่ 12 เมษายน\n",
      "2561 นั้น นับว่าสูงเกินส่วนเห็นสมควรปรับลดลงและกำหนดค่าเสียหายในส่วนนี้แก่โจทก์ร้อยละ 10 ของเงิน 633,451.61 บาท เป็น\n",
      "เงิน 63,345.16 บาท ที่ศาลล่างทั้งสองพิพากษามานั้น ศาลฎีกาไม่เห็นพ้องด้วย ฎีกาของโจทก์ฟังขึ้นบางส่วน\n",
      "อนึ่ง ระหว่างการพิจารณาของศาลอุทธรณ์ ได้มีพระราชกำหนดแก้ไขเพิ่มเติมประมวลกฎหมายแพ่งและพาณิชย์ พ.ศ. 2564\n",
      "ให้ยกเลิกความในมาตรา 7 และมาตรา 224 แห่งประมวลกฎหมายแพ่งและพาณิชย์ และให้ใช้ข้อความที่บัญญัติขึ้นใหม่แทนซึ่งมีผลให้\n",
      "กรณีที่ต้องเสียดอกเบี้ยแก่กันและมิได้กำหนดอัตราดอกเบี้ยไว้โดยนิติกรรมหรือโดยบทกฎหมายอันชัดแจ้ง ให้ใช้อัตราร้อยละ 3 ต่อปี\n",
      "และกรณีหนี้เงินให้คิดดอกเบี้ยในระหว่างผิดนัดในอัตราที่กำหนดตามมาตรา 7 บวกด้วยอัตราเพิ่มร้อยละ 2 ต่อปี เว้นแต่เจ้าหนี้อาจจะ\n",
      "เรียกดอกเบี้ยได้สูงกว่านั้นโดยอาศัยเหตุอย่างอื่นอันชอบด้วยกฎหมาย โดยมีผลใช้บังคับตั้งแต่วันที่ 11 เมษายน 2564 เป็นต้นไป แต่\n",
      "ไม่กระทบกระเทือนถึงการคิดดอกเบี้ยผิดนัดในระหว่างช่วงเวลาก่อนที่พระราชกำหนดนี้ใช้บังคับ การกำหนดอัตราดอกเบี้ยตาม\n",
      "กฎหมายเป็นข้อกฎหมายอันเกี่ยวด้วยความสงบเรียบร้อยของประชาชน ศาลฎีกามีอำนาจยกขึ้นวินิจฉัยและแก้ไขให้ถูกต้องได้ตาม\n",
      "ประมวลกฎหมายวิธีพิจารณาความแพ่ง มาตรา 142 (5) ประกอบมาตรา 246 และมาตรา 252\n",
      "พิพากษากลับ ให้จำเลยชำระเงิน 63,345.16 บาท พร้อมดอกเบี้ยอัตราร้อยละ 7.5 ต่อปี นับแต่วันฟ้อง (ฟ้องวันที่ 26\n",
      "กันยายน 2562) จนถึงวันที่ 10 เมษายน 2564 และอัตราร้อยละ 5 ต่อปี ตั้งแต่วันที่ 11 เมษายน 2564 เป็นต้นไปจนกว่าจะชำระเสร็จ\n",
      "แก่โจทก์ อัตราดอกเบี้ยตั้งแต่วันที่ 11 เมษายน 2564 นั้น ถ้ากระทรวงการคลังปรับเปลี่ยนโดยตราเป็นพระราชกฤษฎีกาเมื่อใดก็ให้\n",
      "ปรับเปลี่ยนไปตามนั้นบวกด้วยอัตราเพิ่มร้อยละ 2 ต่อปี แต่ต้องไม่เกินอัตราร้อยละ 7.5 ต่อปี ตามขอ ค่าฤชาธรรมเนียมทั้งสามศาลให้\n",
      "เป็นพับ\n",
      "(สุภัทร์ สุทธิมนัส-วยุรี วัฒนวรลักษณ์-ธีระ เบญจรัศมีโรจน์)\n",
      "ศาลแพ่งพระโขนง - นางสาวจุฬาลักษณ์ ตันติกุลานันท์\n",
      "ศาลอุทธรณ์ - นายกันตธรณ์ กันตธนาธรณ์\n",
      "แหล่งที่มา\n",
      "กองผู้ช่วยผู้พิพากษาศาลฎีกา\n",
      "\n",
      "\n",
      "\n",
      "\n",
      "แผนก\n",
      "หมายเลขคดีแดงศาลชั้นต้น\n",
      "หมายเหตุ\n",
      "\n"
     ]
    }
   ],
   "source": [
    "print(cleaned_text)"
   ]
  },
  {
   "cell_type": "markdown",
   "metadata": {},
   "source": [
    "# Embbedding"
   ]
  },
  {
   "cell_type": "code",
   "execution_count": 316,
   "metadata": {},
   "outputs": [],
   "source": [
    "from langchain_community.embeddings import HuggingFaceInstructEmbeddings\n",
    "from langchain.text_splitter import RecursiveCharacterTextSplitter\n",
    "from langchain.vectorstores import Chroma"
   ]
  },
  {
   "cell_type": "code",
   "execution_count": 317,
   "metadata": {},
   "outputs": [
    {
     "name": "stdout",
     "output_type": "stream",
     "text": [
      "load INSTRUCTOR_Transformer\n",
      "max_seq_length  512\n"
     ]
    }
   ],
   "source": [
    "DEVICE = \"cuda:0\" if torch.cuda.is_available() else \"cpu\"\n",
    "\n",
    "embeddings = HuggingFaceInstructEmbeddings(\n",
    "    model_name = \"intfloat/multilingual-e5-large\",\n",
    "    model_kwargs={\"device\": DEVICE}\n",
    ")"
   ]
  },
  {
   "cell_type": "code",
   "execution_count": 318,
   "metadata": {},
   "outputs": [
    {
     "data": {
      "text/plain": [
       "8"
      ]
     },
     "execution_count": 318,
     "metadata": {},
     "output_type": "execute_result"
    }
   ],
   "source": [
    "text_splitter = RecursiveCharacterTextSplitter(\n",
    "    chunk_size=1024, \n",
    "    chunk_overlap=64,\n",
    "    separators=[\n",
    "        \"\\n\\n\",\n",
    "        \"\\n\",\n",
    "        \" \",\n",
    "        \".\",\n",
    "        \",\",\n",
    "        \"\\u200b\",  # Zero-width space\n",
    "        \"\\uff0c\",  # Fullwidth comma\n",
    "        \"\\u3001\",  # Ideographic comma\n",
    "        \"\\uff0e\",  # Fullwidth full stop\n",
    "        \"\\u3002\",  # Ideographic full stop\n",
    "        \"\",\n",
    "    ],)\n",
    "\n",
    "split_text = text_splitter.split_text(cleaned_text)\n",
    "\n",
    "len(split_text)"
   ]
  },
  {
   "cell_type": "code",
   "execution_count": 319,
   "metadata": {},
   "outputs": [
    {
     "name": "stdout",
     "output_type": "stream",
     "text": [
      "['ฎีกาตัดสินเกี่ยวกับปัญหาข้อกฎหมาย\\nคำพิพากษาศาลฎีกาที่ \\nบริษัท พ.\\nโจทก์\\nบริษัท อ.\\nจำเลย\\nป.พ.พ. มาตรา 383 วรรค หนึ่ง\\nสัญญาเช่ารถยนต์ ข้อ 9.2 กำหนดว่า “ในกรณีที่ผู้เช่าต้องการเลิกสัญญาก่อนกำหนด โดยมิใช่เป็นความผิดของผู้ให้เช่า ผู้เช่า\\nต้องแจ้งให้ผู้ให้เช่าทราบล่วงหน้าเป็นลายลักษณ์อักษรไม่น้อยกว่า 30 วัน ทั้งนี้ผู้เช่าต้องชำระค่าเสียหายให้แก่ผู้ให้เช่าตามเงื่อนไข\\nดังนี้... 9.2.2 กรณียกเลิกสัญญาในปีที่ 2 ผู้เช่าต้องชำระค่าเสียหายเป็นจำนวนเงินเท่ากับร้อยละ 40 ของยอดค่าเช่าพึงชำระ นับตั้งแต่\\nวันบอกเลิกสัญญาจนถึงวันสิ้นสุดสัญญา...” สัญญาเช่ารถยนต์ดังกล่าวเป็นการให้เช่าแบบลิสซิ่งซึ่งมีกำหนดระยะเวลาเช่า 5 ปี หาก\\nครบกำหนดโจทก์จะได้รับค่าเช่า 876,000 บาท แต่การที่จำเลยบอกเลิกสัญญาโดยการคืนรถยนต์ที่เช่าและให้โจทก์รับรถวันที่ 19\\nมีนาคม 2561 หลังจากทำสัญญาเช่าเพียง 1 ปี 4 เดือน 19 วัน โจทก์ได้รับค่าเช่าเพียง 242,548.39 บาท จึงไม่ได้รับค่าเช่าส่วนที่\\nเหลือ 633,451.61 บาท แต่อย่างไรก็ตามสัญญา ข้อ 9.2.2 ดังกล่าวเป็นการกำหนดค่าเสียหายไว้ล่วงหน้าอันมีลักษณะเป็นเบี้ยปรับ', 'ซึ่งหากกำหนดไว้สูงเกินส่วน ศาลมีอำนาจลดลงเป็นจำนวนพอสมควรได้ตาม ป.พ.พ. มาตรา 383 วรรคหนึ่ง\\n___________________________\\nโจทก์ฟ้องขอให้บังคับจำเลยชำระเงิน 253,380.65 บาท พร้อมดอกเบี้ยอัตราร้อยละ 7.5 ต่อปี นับแต่วันฟ้องเป็นต้นไป\\nจนกว่าจะชำระเสร็จ\\nจำเลยให้การขอให้ยกฟ้อง\\nศาลชั้นต้นพิพากษายกฟ้อง ค่าฤชาธรรมเนียมและค่าใช้จ่ายในการดำเนินคดีให้เป็นพับ\\nโจทก์อุทธรณ์\\nศาลอุทธรณ์พิพากษายืน ค่าฤชาธรรมเนียมชั้นอุทธรณ์ให้เป็นพับ\\nโจทก์ฎีกา โดยได้รับอนุญาตจากศาลฎีกา\\nศาลฎีกาวินิจฉัยว่า ข้อเท็จจริงที่คู่ความไม่โต้แย้งกันในชั้นฎีการับฟังเป็นยุติว่า โจทก์เป็นนิติบุคคลมีวัตถุประสงค์หลาย\\nประการรวมให้เช่ายานพาหนะ จำเลยเป็นนิติบุคคลมีวัตถุประสงค์ประกอบกิจการขนส่งและขนถ่ายสินค้า วันที่ 1 พฤศจิกายน 2559\\nจำเลยทำสัญญาเช่ารถยนต์กระบะยี่ห้อโตโยต้า จากโจทก์ตามสัญญาเช่ารถยนต์ ต่อมาจำเลยผิดนัดไม่ชำระค่าเช่า โจทก์ส่งใบแจ้งหนี้\\nให้จำเลยชำระค่าเช่า จากนั้นวันที่ 16 มีนาคม 2561 จำเลยส่งจดหมายอิเล็กทรอนิกส์ถึงโจทก์ แจ้งให้ไปรับรถยนต์ที่เช่าคืนวันที่ 19', 'มีนาคม 2561 โจทก์รับรถยนต์ที่เช่าคืนแล้ว และจำเลยชำระค่าเช่าที่ค้างให้โจทก์ครบถ้วนตามใบแจ้งหนี้และสำเนาใบเสร็จรับเงินแล้ว', 'มีปัญหาต้องวินิจฉัยตามฎีกาของโจทก์ว่า โจทก์มีสิทธิเรียกค่าเสียหายจากจำเลยหรือไม่ โจทก์ฎีกาได้ความว่า สัญญาเช่า\\nรถยนต์ ข้อ 9.2 กำหนดว่า “ในกรณีที่ผู้เช่าต้องการเลิกสัญญาก่อนกำหนด โดยมิใช่เป็นความผิดของผู้ให้เช่า ผู้เช่าต้องแจ้งให้ผู้ให้เช่า\\nทราบล่วงหน้าเป็นลายลักษณ์อักษรไม่น้อยกว่า 30 วัน ทั้งนี้ผู้เช่าต้องชำระค่าเสียหายให้แก่ผู้ให้เช่าตามเงื่อนไขดังนี้... 9.2.2 กรณี\\nยกเลิกสัญญาในปีที่ 2 ผู้เช่าต้องชำระค่าเสียหายเป็นจำนวนเงินเท่ากับร้อยละ 40 ของยอดค่าเช่าพึงชำระ นับตั้งแต่วันบอกเลิกสัญญา\\nจนถึงวันสิ้นสุดสัญญา...” เห็นว่า สัญญาเช่ารถยนต์ดังกล่าวเป็นการให้เช่าแบบลิสซิ่งซึ่งมีกำหนดระยะเวลาเช่า 5 ปี หากครบกำหนด\\nโจทก์จะได้รับค่าเช่า 876,000 บาท แต่การที่จำเลยบอกเลิกสัญญาโดยการคืนรถยนต์ที่เช่าและให้โจทก์รับรถวันที่ 19 มีนาคม 2561\\nตามจดหมายอิเล็กทรอนิกส์ลงวันที่ 16 มีนาคม 2561 หลังจากทำสัญญาเช่าเพียง 1 ปี 4 เดือน 19 วัน โจทก์ได้รับค่าเช่าเพียง\\n242,548.39 บาท จึงไม่ได้รับค่าเช่าส่วนที่เหลือ 633,451.61 บาท แต่อย่างไรก็ตามสัญญา ข้อ 9.2.2 ดังกล่าวเป็นการกำหนดค่าเสีย', 'หายไว้ล่วงหน้าอันมีลักษณะเป็นเบี้ยปรับ ซึ่งหากกำหนดไว้สูงเกินส่วน ศาลมีอำนาจลดลงเป็นจำนวนพอสมควรได้ตามประมวล\\nกฎหมายแพ่งและพาณิชย์ มาตรา 383 วรรคหนึ่ง เมื่อพิเคราะห์ถึงทางได้เสียของโจทก์ทุกอย่างอันชอบด้วยกฎหมายแล้ว และได้\\nความว่าโจทก์ส่งใบแจ้งหนี้ให้จำเลยชำระค่าปรับคืนรถก่อนกำหนดเป็นเงิน 253,380.65 บาท ตามใบแจ้งหนี้ลงวันที่ 12 เมษายน\\n2561 นั้น นับว่าสูงเกินส่วนเห็นสมควรปรับลดลงและกำหนดค่าเสียหายในส่วนนี้แก่โจทก์ร้อยละ 10 ของเงิน 633,451.61 บาท เป็น\\nเงิน 63,345.16 บาท ที่ศาลล่างทั้งสองพิพากษามานั้น ศาลฎีกาไม่เห็นพ้องด้วย ฎีกาของโจทก์ฟังขึ้นบางส่วน\\nอนึ่ง ระหว่างการพิจารณาของศาลอุทธรณ์ ได้มีพระราชกำหนดแก้ไขเพิ่มเติมประมวลกฎหมายแพ่งและพาณิชย์ พ.ศ. 2564\\nให้ยกเลิกความในมาตรา 7 และมาตรา 224 แห่งประมวลกฎหมายแพ่งและพาณิชย์ และให้ใช้ข้อความที่บัญญัติขึ้นใหม่แทนซึ่งมีผลให้\\nกรณีที่ต้องเสียดอกเบี้ยแก่กันและมิได้กำหนดอัตราดอกเบี้ยไว้โดยนิติกรรมหรือโดยบทกฎหมายอันชัดแจ้ง ให้ใช้อัตราร้อยละ 3 ต่อปี\\nและกรณีหนี้เงินให้คิดดอกเบี้ยในระหว่างผิดนัดในอัตราที่กำหนดตามมาตรา 7 บวกด้วยอัตราเพิ่มร้อยละ 2 ต่อปี เว้นแต่เจ้าหนี้อาจจะ', 'เรียกดอกเบี้ยได้สูงกว่านั้นโดยอาศัยเหตุอย่างอื่นอันชอบด้วยกฎหมาย โดยมีผลใช้บังคับตั้งแต่วันที่ 11 เมษายน 2564 เป็นต้นไป แต่\\nไม่กระทบกระเทือนถึงการคิดดอกเบี้ยผิดนัดในระหว่างช่วงเวลาก่อนที่พระราชกำหนดนี้ใช้บังคับ การกำหนดอัตราดอกเบี้ยตาม\\nกฎหมายเป็นข้อกฎหมายอันเกี่ยวด้วยความสงบเรียบร้อยของประชาชน ศาลฎีกามีอำนาจยกขึ้นวินิจฉัยและแก้ไขให้ถูกต้องได้ตาม\\nประมวลกฎหมายวิธีพิจารณาความแพ่ง มาตรา 142 (5) ประกอบมาตรา 246 และมาตรา 252\\nพิพากษากลับ ให้จำเลยชำระเงิน 63,345.16 บาท พร้อมดอกเบี้ยอัตราร้อยละ 7.5 ต่อปี นับแต่วันฟ้อง (ฟ้องวันที่ 26\\nกันยายน 2562) จนถึงวันที่ 10 เมษายน 2564 และอัตราร้อยละ 5 ต่อปี ตั้งแต่วันที่ 11 เมษายน 2564 เป็นต้นไปจนกว่าจะชำระเสร็จ\\nแก่โจทก์ อัตราดอกเบี้ยตั้งแต่วันที่ 11 เมษายน 2564 นั้น ถ้ากระทรวงการคลังปรับเปลี่ยนโดยตราเป็นพระราชกฤษฎีกาเมื่อใดก็ให้\\nปรับเปลี่ยนไปตามนั้นบวกด้วยอัตราเพิ่มร้อยละ 2 ต่อปี แต่ต้องไม่เกินอัตราร้อยละ 7.5 ต่อปี ตามขอ ค่าฤชาธรรมเนียมทั้งสามศาลให้\\nเป็นพับ\\n(สุภัทร์ สุทธิมนัส-วยุรี วัฒนวรลักษณ์-ธีระ เบญจรัศมีโรจน์)\\nศาลแพ่งพระโขนง - นางสาวจุฬาลักษณ์ ตันติกุลานันท์', 'ศาลแพ่งพระโขนง - นางสาวจุฬาลักษณ์ ตันติกุลานันท์\\nศาลอุทธรณ์ - นายกันตธรณ์ กันตธนาธรณ์\\nแหล่งที่มา\\nกองผู้ช่วยผู้พิพากษาศาลฎีกา', 'แผนก\\nหมายเลขคดีแดงศาลชั้นต้น\\nหมายเหตุ']\n"
     ]
    }
   ],
   "source": [
    "print(split_text)"
   ]
  },
  {
   "cell_type": "code",
   "execution_count": 320,
   "metadata": {},
   "outputs": [],
   "source": [
    "db = Chroma.from_texts(split_text, embeddings, persist_directory=\"db\")"
   ]
  },
  {
   "cell_type": "code",
   "execution_count": 321,
   "metadata": {},
   "outputs": [
    {
     "data": {
      "text/plain": [
       "[Document(page_content='แผนก\\nหมายเลขคดีแดงศาลชั้นต้น\\nหมายเหตุ'),\n",
       " Document(page_content='แผนก\\nหมายเลขคดีแดงศาลชั้นต้น\\nหมายเหตุ'),\n",
       " Document(page_content='แผนก\\nหมายเลขคดีแดงศาลชั้นต้น\\nหมายเหตุ'),\n",
       " Document(page_content='แผนก\\nหมายเลขคดีแดงศาลชั้นต้น\\nหมายเหตุ')]"
      ]
     },
     "execution_count": 321,
     "metadata": {},
     "output_type": "execute_result"
    }
   ],
   "source": [
    "db.similarity_search(\"มาตรา 383\")"
   ]
  },
  {
   "cell_type": "markdown",
   "metadata": {},
   "source": [
    "# Model Selection"
   ]
  },
  {
   "cell_type": "code",
   "execution_count": 322,
   "metadata": {},
   "outputs": [],
   "source": [
    "from os.path import expanduser\n",
    "from langchain_community.llms import LlamaCpp\n",
    "from langchain_core.callbacks import CallbackManager, StreamingStdOutCallbackHandler\n",
    "from langchain_core.prompts import PromptTemplate\n",
    "from langchain.memory import ConversationBufferMemory\n",
    "from langchain.chains import ConversationalRetrievalChain\n",
    "from langchain.chains.summarize import load_summarize_chain\n",
    "from langchain.docstore.document import Document\n",
    "from langchain.chains import RetrievalQA"
   ]
  },
  {
   "cell_type": "code",
   "execution_count": 323,
   "metadata": {},
   "outputs": [],
   "source": [
    "model_path_opt = expanduser(\"model/openthaigpt-1.0.0-beta-13b-chat.Q3_K_L.gguf\")\n",
    "model_path_sea = expanduser(\"model/seallm-7b-v2.5.Q4_K_M.gguf\")"
   ]
  },
  {
   "cell_type": "code",
   "execution_count": 324,
   "metadata": {},
   "outputs": [
    {
     "name": "stderr",
     "output_type": "stream",
     "text": [
      "llama_model_loader: loaded meta data with 24 key-value pairs and 363 tensors from model/openthaigpt-1.0.0-beta-13b-chat.Q3_K_L.gguf (version GGUF V3 (latest))\n",
      "llama_model_loader: Dumping metadata keys/values. Note: KV overrides do not apply in this output.\n",
      "llama_model_loader: - kv   0:                       general.architecture str              = llama\n",
      "llama_model_loader: - kv   1:                               general.name str              = LLaMA v2\n",
      "llama_model_loader: - kv   2:                       llama.context_length u32              = 4096\n",
      "llama_model_loader: - kv   3:                     llama.embedding_length u32              = 5120\n",
      "llama_model_loader: - kv   4:                          llama.block_count u32              = 40\n",
      "llama_model_loader: - kv   5:                  llama.feed_forward_length u32              = 13824\n",
      "llama_model_loader: - kv   6:                 llama.rope.dimension_count u32              = 128\n",
      "llama_model_loader: - kv   7:                 llama.attention.head_count u32              = 40\n",
      "llama_model_loader: - kv   8:              llama.attention.head_count_kv u32              = 40\n",
      "llama_model_loader: - kv   9:     llama.attention.layer_norm_rms_epsilon f32              = 0.000010\n",
      "llama_model_loader: - kv  10:                       llama.rope.freq_base f32              = 10000.000000\n",
      "llama_model_loader: - kv  11:                          general.file_type u32              = 13\n",
      "llama_model_loader: - kv  12:                       tokenizer.ggml.model str              = llama\n",
      "llama_model_loader: - kv  13:                      tokenizer.ggml.tokens arr[str,41088]   = [\"<unk>\", \"<s>\", \"</s>\", \"<0x00>\", \"<...\n",
      "llama_model_loader: - kv  14:                      tokenizer.ggml.scores arr[f32,41088]   = [0.000000, 0.000000, 0.000000, 0.0000...\n",
      "llama_model_loader: - kv  15:                  tokenizer.ggml.token_type arr[i32,41088]   = [2, 3, 3, 6, 6, 6, 6, 6, 6, 6, 6, 6, ...\n",
      "llama_model_loader: - kv  16:                      tokenizer.ggml.merges arr[str,74130]   = [\"7 UP\", \"AA I\", \"A AI\", \"AA V\", \"A A...\n",
      "llama_model_loader: - kv  17:                tokenizer.ggml.bos_token_id u32              = 1\n",
      "llama_model_loader: - kv  18:                tokenizer.ggml.eos_token_id u32              = 2\n",
      "llama_model_loader: - kv  19:            tokenizer.ggml.unknown_token_id u32              = 0\n",
      "llama_model_loader: - kv  20:            tokenizer.ggml.padding_token_id u32              = 41074\n",
      "llama_model_loader: - kv  21:               tokenizer.ggml.add_bos_token bool             = true\n",
      "llama_model_loader: - kv  22:               tokenizer.ggml.add_eos_token bool             = false\n",
      "llama_model_loader: - kv  23:               general.quantization_version u32              = 2\n",
      "llama_model_loader: - type  f32:   81 tensors\n",
      "llama_model_loader: - type q3_K:  161 tensors\n",
      "llama_model_loader: - type q5_K:  120 tensors\n",
      "llama_model_loader: - type q6_K:    1 tensors\n",
      "llm_load_vocab: mismatch in special tokens definition ( 522/41088 vs 277/41088 ).\n",
      "llm_load_print_meta: format           = GGUF V3 (latest)\n",
      "llm_load_print_meta: arch             = llama\n",
      "llm_load_print_meta: vocab type       = SPM\n",
      "llm_load_print_meta: n_vocab          = 41088\n",
      "llm_load_print_meta: n_merges         = 0\n",
      "llm_load_print_meta: n_ctx_train      = 4096\n",
      "llm_load_print_meta: n_embd           = 5120\n",
      "llm_load_print_meta: n_head           = 40\n",
      "llm_load_print_meta: n_head_kv        = 40\n",
      "llm_load_print_meta: n_layer          = 40\n",
      "llm_load_print_meta: n_rot            = 128\n",
      "llm_load_print_meta: n_embd_head_k    = 128\n",
      "llm_load_print_meta: n_embd_head_v    = 128\n",
      "llm_load_print_meta: n_gqa            = 1\n",
      "llm_load_print_meta: n_embd_k_gqa     = 5120\n",
      "llm_load_print_meta: n_embd_v_gqa     = 5120\n",
      "llm_load_print_meta: f_norm_eps       = 0.0e+00\n",
      "llm_load_print_meta: f_norm_rms_eps   = 1.0e-05\n",
      "llm_load_print_meta: f_clamp_kqv      = 0.0e+00\n",
      "llm_load_print_meta: f_max_alibi_bias = 0.0e+00\n",
      "llm_load_print_meta: f_logit_scale    = 0.0e+00\n",
      "llm_load_print_meta: n_ff             = 13824\n",
      "llm_load_print_meta: n_expert         = 0\n",
      "llm_load_print_meta: n_expert_used    = 0\n",
      "llm_load_print_meta: causal attn      = 1\n",
      "llm_load_print_meta: pooling type     = 0\n",
      "llm_load_print_meta: rope type        = 0\n",
      "llm_load_print_meta: rope scaling     = linear\n",
      "llm_load_print_meta: freq_base_train  = 10000.0\n",
      "llm_load_print_meta: freq_scale_train = 1\n",
      "llm_load_print_meta: n_yarn_orig_ctx  = 4096\n",
      "llm_load_print_meta: rope_finetuned   = unknown\n",
      "llm_load_print_meta: ssm_d_conv       = 0\n",
      "llm_load_print_meta: ssm_d_inner      = 0\n",
      "llm_load_print_meta: ssm_d_state      = 0\n",
      "llm_load_print_meta: ssm_dt_rank      = 0\n",
      "llm_load_print_meta: model type       = 13B\n",
      "llm_load_print_meta: model ftype      = Q3_K - Large\n",
      "llm_load_print_meta: model params     = 13.11 B\n",
      "llm_load_print_meta: model size       = 6.51 GiB (4.26 BPW) \n",
      "llm_load_print_meta: general.name     = LLaMA v2\n",
      "llm_load_print_meta: BOS token        = 1 '<s>'\n",
      "llm_load_print_meta: EOS token        = 2 '</s>'\n",
      "llm_load_print_meta: UNK token        = 0 '<unk>'\n",
      "llm_load_print_meta: PAD token        = 41074 '<PAD>'\n",
      "llm_load_print_meta: LF token         = 13 '<0x0A>'\n",
      "llm_load_tensors: ggml ctx size =    0.18 MiB\n",
      "llm_load_tensors:        CPU buffer size =  6663.30 MiB\n",
      "...................................................................................................\n",
      "llama_new_context_with_model: n_ctx      = 2048\n",
      "llama_new_context_with_model: n_batch    = 512\n",
      "llama_new_context_with_model: n_ubatch   = 512\n",
      "llama_new_context_with_model: flash_attn = 0\n",
      "llama_new_context_with_model: freq_base  = 10000.0\n",
      "llama_new_context_with_model: freq_scale = 1\n",
      "llama_kv_cache_init:        CPU KV buffer size =  1600.00 MiB\n",
      "llama_new_context_with_model: KV self size  = 1600.00 MiB, K (f16):  800.00 MiB, V (f16):  800.00 MiB\n",
      "llama_new_context_with_model:        CPU  output buffer size =     0.16 MiB\n",
      "llama_new_context_with_model:        CPU compute buffer size =   204.01 MiB\n",
      "llama_new_context_with_model: graph nodes  = 1286\n",
      "llama_new_context_with_model: graph splits = 1\n",
      "AVX = 1 | AVX_VNNI = 0 | AVX2 = 1 | AVX512 = 1 | AVX512_VBMI = 0 | AVX512_VNNI = 0 | FMA = 1 | NEON = 0 | ARM_FMA = 0 | F16C = 1 | FP16_VA = 0 | WASM_SIMD = 0 | BLAS = 0 | SSE3 = 1 | SSSE3 = 0 | VSX = 0 | MATMUL_INT8 = 0 | LLAMAFILE = 1 | \n",
      "Model metadata: {'general.name': 'LLaMA v2', 'general.architecture': 'llama', 'llama.context_length': '4096', 'llama.rope.dimension_count': '128', 'llama.embedding_length': '5120', 'llama.block_count': '40', 'llama.feed_forward_length': '13824', 'llama.attention.head_count': '40', 'tokenizer.ggml.eos_token_id': '2', 'general.file_type': '13', 'llama.attention.head_count_kv': '40', 'llama.attention.layer_norm_rms_epsilon': '0.000010', 'llama.rope.freq_base': '10000.000000', 'tokenizer.ggml.model': 'llama', 'general.quantization_version': '2', 'tokenizer.ggml.bos_token_id': '1', 'tokenizer.ggml.unknown_token_id': '0', 'tokenizer.ggml.padding_token_id': '41074', 'tokenizer.ggml.add_bos_token': 'true', 'tokenizer.ggml.add_eos_token': 'false'}\n",
      "Using fallback chat format: llama-2\n"
     ]
    }
   ],
   "source": [
    "callback_manager = CallbackManager([StreamingStdOutCallbackHandler()])\n",
    "\n",
    "llm_opt = LlamaCpp(\n",
    "    model_path=model_path_opt,\n",
    "    streaming=False,\n",
    "    n_gpu_layers=-1,\n",
    "    n_batch=512,\n",
    "    callback_manager=callback_manager,\n",
    "    verbose=True,\n",
    "    n_ctx=2048\n",
    ")"
   ]
  },
  {
   "cell_type": "code",
   "execution_count": 325,
   "metadata": {},
   "outputs": [
    {
     "name": "stderr",
     "output_type": "stream",
     "text": [
      "llama_model_loader: loaded meta data with 24 key-value pairs and 254 tensors from model/seallm-7b-v2.5.Q4_K_M.gguf (version GGUF V3 (latest))\n",
      "llama_model_loader: Dumping metadata keys/values. Note: KV overrides do not apply in this output.\n",
      "llama_model_loader: - kv   0:                       general.architecture str              = gemma\n",
      "llama_model_loader: - kv   1:                               general.name str              = step-149760_export\n",
      "llama_model_loader: - kv   2:                       gemma.context_length u32              = 8192\n",
      "llama_model_loader: - kv   3:                     gemma.embedding_length u32              = 3072\n",
      "llama_model_loader: - kv   4:                          gemma.block_count u32              = 28\n",
      "llama_model_loader: - kv   5:                  gemma.feed_forward_length u32              = 24576\n",
      "llama_model_loader: - kv   6:                 gemma.attention.head_count u32              = 16\n",
      "llama_model_loader: - kv   7:              gemma.attention.head_count_kv u32              = 16\n",
      "llama_model_loader: - kv   8:     gemma.attention.layer_norm_rms_epsilon f32              = 0.000001\n",
      "llama_model_loader: - kv   9:                 gemma.attention.key_length u32              = 256\n",
      "llama_model_loader: - kv  10:               gemma.attention.value_length u32              = 256\n",
      "llama_model_loader: - kv  11:                          general.file_type u32              = 15\n",
      "llama_model_loader: - kv  12:                       tokenizer.ggml.model str              = llama\n",
      "llama_model_loader: - kv  13:                      tokenizer.ggml.tokens arr[str,256000]  = [\"<pad>\", \"<eos>\", \"<bos>\", \"<unk>\", ...\n",
      "llama_model_loader: - kv  14:                      tokenizer.ggml.scores arr[f32,256000]  = [0.000000, 0.000000, 0.000000, 0.0000...\n",
      "llama_model_loader: - kv  15:                  tokenizer.ggml.token_type arr[i32,256000]  = [3, 3, 3, 2, 1, 1, 1, 1, 1, 1, 1, 1, ...\n",
      "llama_model_loader: - kv  16:                tokenizer.ggml.bos_token_id u32              = 2\n",
      "llama_model_loader: - kv  17:                tokenizer.ggml.eos_token_id u32              = 1\n",
      "llama_model_loader: - kv  18:            tokenizer.ggml.unknown_token_id u32              = 3\n",
      "llama_model_loader: - kv  19:            tokenizer.ggml.padding_token_id u32              = 0\n",
      "llama_model_loader: - kv  20:               tokenizer.ggml.add_bos_token bool             = true\n",
      "llama_model_loader: - kv  21:               tokenizer.ggml.add_eos_token bool             = false\n",
      "llama_model_loader: - kv  22:                    tokenizer.chat_template str              = {% if not add_generation_prompt is de...\n",
      "llama_model_loader: - kv  23:               general.quantization_version u32              = 2\n",
      "llama_model_loader: - type  f32:   57 tensors\n",
      "llama_model_loader: - type q4_K:  168 tensors\n",
      "llama_model_loader: - type q6_K:   29 tensors\n",
      "llm_load_vocab: mismatch in special tokens definition ( 416/256000 vs 260/256000 ).\n",
      "llm_load_print_meta: format           = GGUF V3 (latest)\n",
      "llm_load_print_meta: arch             = gemma\n",
      "llm_load_print_meta: vocab type       = SPM\n",
      "llm_load_print_meta: n_vocab          = 256000\n",
      "llm_load_print_meta: n_merges         = 0\n",
      "llm_load_print_meta: n_ctx_train      = 8192\n",
      "llm_load_print_meta: n_embd           = 3072\n",
      "llm_load_print_meta: n_head           = 16\n",
      "llm_load_print_meta: n_head_kv        = 16\n",
      "llm_load_print_meta: n_layer          = 28\n",
      "llm_load_print_meta: n_rot            = 192\n",
      "llm_load_print_meta: n_embd_head_k    = 256\n",
      "llm_load_print_meta: n_embd_head_v    = 256\n",
      "llm_load_print_meta: n_gqa            = 1\n",
      "llm_load_print_meta: n_embd_k_gqa     = 4096\n",
      "llm_load_print_meta: n_embd_v_gqa     = 4096\n",
      "llm_load_print_meta: f_norm_eps       = 0.0e+00\n",
      "llm_load_print_meta: f_norm_rms_eps   = 1.0e-06\n",
      "llm_load_print_meta: f_clamp_kqv      = 0.0e+00\n",
      "llm_load_print_meta: f_max_alibi_bias = 0.0e+00\n",
      "llm_load_print_meta: f_logit_scale    = 0.0e+00\n",
      "llm_load_print_meta: n_ff             = 24576\n",
      "llm_load_print_meta: n_expert         = 0\n",
      "llm_load_print_meta: n_expert_used    = 0\n",
      "llm_load_print_meta: causal attn      = 1\n",
      "llm_load_print_meta: pooling type     = 0\n",
      "llm_load_print_meta: rope type        = 2\n",
      "llm_load_print_meta: rope scaling     = linear\n",
      "llm_load_print_meta: freq_base_train  = 10000.0\n",
      "llm_load_print_meta: freq_scale_train = 1\n",
      "llm_load_print_meta: n_yarn_orig_ctx  = 8192\n",
      "llm_load_print_meta: rope_finetuned   = unknown\n",
      "llm_load_print_meta: ssm_d_conv       = 0\n",
      "llm_load_print_meta: ssm_d_inner      = 0\n",
      "llm_load_print_meta: ssm_d_state      = 0\n",
      "llm_load_print_meta: ssm_dt_rank      = 0\n",
      "llm_load_print_meta: model type       = 7B\n",
      "llm_load_print_meta: model ftype      = Q4_K - Medium\n",
      "llm_load_print_meta: model params     = 8.54 B\n",
      "llm_load_print_meta: model size       = 4.96 GiB (4.99 BPW) \n",
      "llm_load_print_meta: general.name     = step-149760_export\n",
      "llm_load_print_meta: BOS token        = 2 '<bos>'\n",
      "llm_load_print_meta: EOS token        = 1 '<eos>'\n",
      "llm_load_print_meta: UNK token        = 3 '<unk>'\n",
      "llm_load_print_meta: PAD token        = 0 '<pad>'\n",
      "llm_load_print_meta: LF token         = 227 '<0x0A>'\n",
      "llm_load_print_meta: EOT token        = 107 '<end_of_turn>'\n",
      "llm_load_tensors: ggml ctx size =    0.13 MiB\n",
      "llm_load_tensors:        CPU buffer size =  5077.09 MiB\n",
      ".............................................................................\n",
      "llama_new_context_with_model: n_ctx      = 3072\n",
      "llama_new_context_with_model: n_batch    = 512\n",
      "llama_new_context_with_model: n_ubatch   = 512\n",
      "llama_new_context_with_model: flash_attn = 0\n",
      "llama_new_context_with_model: freq_base  = 10000.0\n",
      "llama_new_context_with_model: freq_scale = 1\n",
      "llama_kv_cache_init:        CPU KV buffer size =  1344.00 MiB\n",
      "llama_new_context_with_model: KV self size  = 1344.00 MiB, K (f16):  672.00 MiB, V (f16):  672.00 MiB\n",
      "llama_new_context_with_model:        CPU  output buffer size =     0.98 MiB\n",
      "llama_new_context_with_model:        CPU compute buffer size =   506.00 MiB\n",
      "llama_new_context_with_model: graph nodes  = 931\n",
      "llama_new_context_with_model: graph splits = 1\n",
      "AVX = 1 | AVX_VNNI = 0 | AVX2 = 1 | AVX512 = 1 | AVX512_VBMI = 0 | AVX512_VNNI = 0 | FMA = 1 | NEON = 0 | ARM_FMA = 0 | F16C = 1 | FP16_VA = 0 | WASM_SIMD = 0 | BLAS = 0 | SSE3 = 1 | SSSE3 = 0 | VSX = 0 | MATMUL_INT8 = 0 | LLAMAFILE = 1 | \n",
      "Model metadata: {'general.name': 'step-149760_export', 'general.architecture': 'gemma', 'gemma.context_length': '8192', 'gemma.attention.head_count_kv': '16', 'gemma.embedding_length': '3072', 'gemma.block_count': '28', 'gemma.feed_forward_length': '24576', 'gemma.attention.head_count': '16', 'gemma.attention.layer_norm_rms_epsilon': '0.000001', 'gemma.attention.key_length': '256', 'gemma.attention.value_length': '256', 'tokenizer.ggml.eos_token_id': '1', 'general.file_type': '15', 'tokenizer.ggml.model': 'llama', 'general.quantization_version': '2', 'tokenizer.ggml.bos_token_id': '2', 'tokenizer.ggml.unknown_token_id': '3', 'tokenizer.ggml.padding_token_id': '0', 'tokenizer.ggml.add_bos_token': 'true', 'tokenizer.ggml.add_eos_token': 'false', 'tokenizer.chat_template': \"{% if not add_generation_prompt is defined %}{% set add_generation_prompt = false %}{% endif %}{{ bos_token }}{% for message in messages %}{{'<|im_start|>' + message['role'] + '\\n' + message['content'] + '<eos>' + '\\n'}}{% endfor %}{% if add_generation_prompt %}{{ '<|im_start|>assistant\\n' }}{% endif %}\"}\n",
      "Available chat formats from metadata: chat_template.default\n",
      "Using gguf chat template: {% if not add_generation_prompt is defined %}{% set add_generation_prompt = false %}{% endif %}{{ bos_token }}{% for message in messages %}{{'<|im_start|>' + message['role'] + '\n",
      "' + message['content'] + '<eos>' + '\n",
      "'}}{% endfor %}{% if add_generation_prompt %}{{ '<|im_start|>assistant\n",
      "' }}{% endif %}\n",
      "Using chat eos_token: <eos>\n",
      "Using chat bos_token: <bos>\n"
     ]
    }
   ],
   "source": [
    "callback_manager = CallbackManager([StreamingStdOutCallbackHandler()])\n",
    "\n",
    "llm_sea = LlamaCpp(\n",
    "    model_path=model_path_sea,\n",
    "    streaming=False,\n",
    "    n_gpu_layers=-1,\n",
    "    n_batch=512,\n",
    "    callback_manager=callback_manager,\n",
    "    verbose=True,\n",
    "    n_ctx=3000,\n",
    "    repeat_penalty = 1\n",
    ")"
   ]
  },
  {
   "cell_type": "markdown",
   "metadata": {},
   "source": [
    "# Question and Answer"
   ]
  },
  {
   "cell_type": "code",
   "execution_count": 326,
   "metadata": {},
   "outputs": [],
   "source": [
    "template_opt_con = \"\"\"\n",
    "    [INST] <<SYS>>\n",
    "    You are an expert, helpful, respectful and honest Lawyer assistant. AIlways answer as helpfully as possible.Please ensure that your responses are socially unbiased and positive in nature.If a question does not make any sense, or is not factually coherent, explain why instead of answering something not correct. If you don't know the answer to a question, please don't share false information.\n",
    "    {context}\n",
    "    Use the following pieces of context to answer the question at the end. If you don't know the answer to a question, please don't share false information.\n",
    "    <</SYS>>\n",
    "    {chat_history}\n",
    "    {question} [/INST]\n",
    "\"\"\" "
   ]
  },
  {
   "cell_type": "code",
   "execution_count": 327,
   "metadata": {},
   "outputs": [],
   "source": [
    "template_opt_qa = \"\"\"\n",
    "    [INST] <<SYS>>\n",
    "    You are an expert, helpful, respectful and honest Lawyer assistant. AIlways answer as helpfully as possible.Please ensure that your responses are socially unbiased and positive in nature.If a question does not make any sense, or is not factually coherent, explain why instead of answering something not correct. If you don't know the answer to a question, please don't share false information.\n",
    "    {context}\n",
    "    Use the following pieces of context to answer the question at the end. If you don't know the answer to a question, please don't share false information.\n",
    "    <</SYS>>\n",
    "    {question} [/INST]\n",
    "\"\"\"  # End of system message. Please"
   ]
  },
  {
   "cell_type": "code",
   "execution_count": 328,
   "metadata": {},
   "outputs": [],
   "source": [
    "template_sea_con =  \"\"\"<bos> \n",
    "    <|im_start|>system\n",
    "    You are an expert, helpful, respectful and honest Lawyer assistant. AIlways answer as helpfully as possible.Please ensure that your responses are socially unbiased and positive in nature.If a question does not make any sense, or is not factually coherent, explain why instead of answering something not correct. If you don't know the answer to a question, please don't share false information.\n",
    "    {context}\n",
    "    Use the following pieces of context to answer the question at the end. If you don't know the answer to a question, please don't share false information. and answer all the question in Thai language.\n",
    "    <eos>\n",
    "    <|im_start|>user\n",
    "    {chat_history}\n",
    "    {question}\n",
    "    <eos>\n",
    "\"\"\""
   ]
  },
  {
   "cell_type": "code",
   "execution_count": 329,
   "metadata": {},
   "outputs": [],
   "source": [
    "template_sea_qa =  \"\"\"<bos> \n",
    "    <|im_start|>system\n",
    "    You are an expert, helpful, respectful and honest Lawyer assistant. AIlways answer as helpfully as possible.Please ensure that your responses are socially unbiased and positive in nature.If a question does not make any sense, or is not factually coherent, explain why instead of answering something not correct. If you don't know the answer to a question, please don't share false information.\n",
    "    {context}\n",
    "    Use the following pieces of context to answer the question at the end. If you don't know the answer to a question, please don't share false information.and answer all the question in Thai language.\n",
    "    <eos>\n",
    "    <|im_start|>user\n",
    "    {question}\n",
    "    <eos>\n",
    "\"\"\""
   ]
  },
  {
   "cell_type": "code",
   "execution_count": 330,
   "metadata": {},
   "outputs": [],
   "source": [
    "memory_opt = ConversationBufferMemory (\n",
    "    memory_key=\"chat_history\",\n",
    "    human_prefix=\"### Input\",\n",
    "    ai_prefix=\"### Response\",\n",
    "    output_key='answer',\n",
    "    return_messages=True,\n",
    ")\n",
    "\n",
    "memory_sea = ConversationBufferMemory (\n",
    "    memory_key=\"chat_history\",\n",
    "    human_prefix=\"### Input\",\n",
    "    ai_prefix=\"### Response\",\n",
    "    output_key='answer',\n",
    "    return_messages=True,\n",
    ")"
   ]
  },
  {
   "cell_type": "code",
   "execution_count": 331,
   "metadata": {},
   "outputs": [],
   "source": [
    "prompt_opt_con = PromptTemplate(template=template_opt_con, input_variables=[\"context\", \"question\"])\n",
    "prompt_opt_qa = PromptTemplate(template=template_opt_qa, input_variables=[\"context\", \"question\"])\n",
    "prompt_sea_con = PromptTemplate(template=template_sea_con, input_variables=[\"context\", \"question\"])\n",
    "prompt_sea_qa = PromptTemplate(template=template_sea_qa, input_variables=[\"context\", \"question\"])\n"
   ]
  },
  {
   "cell_type": "code",
   "execution_count": 332,
   "metadata": {},
   "outputs": [],
   "source": [
    "chain_opt = ConversationalRetrievalChain.from_llm(\n",
    "    llm=llm_opt,\n",
    "    chain_type=\"stuff\",\n",
    "    retriever=db.as_retriever(search_type=\"similarity_score_threshold\", search_kwargs={\"score_threshold\": 0.7}),\n",
    "    memory=memory_opt,\n",
    "    combine_docs_chain_kwargs={\"prompt\": prompt_opt_con},\n",
    "    return_source_documents=True,\n",
    "    verbose=True,\n",
    ")\n",
    "\n",
    "chain_qa_opt = RetrievalQA.from_chain_type(\n",
    "    llm=llm_opt,\n",
    "    chain_type=\"stuff\",\n",
    "    retriever=db.as_retriever(search_type=\"similarity_score_threshold\", search_kwargs={\"score_threshold\": 0.7}),\n",
    "    return_source_documents=True,\n",
    "    chain_type_kwargs={\"prompt\": prompt_opt_qa},\n",
    "    verbose = True,\n",
    ")"
   ]
  },
  {
   "cell_type": "code",
   "execution_count": 333,
   "metadata": {},
   "outputs": [],
   "source": [
    "chain_sea = ConversationalRetrievalChain.from_llm(\n",
    "    llm=llm_sea,\n",
    "    chain_type=\"stuff\",\n",
    "    retriever=db.as_retriever(search_type=\"similarity_score_threshold\", search_kwargs={\"score_threshold\": 0.5}),\n",
    "    memory=memory_sea,\n",
    "    combine_docs_chain_kwargs={\"prompt\": prompt_sea_con},\n",
    "    return_source_documents=True,\n",
    "    verbose=True,\n",
    ")\n",
    "\n",
    "chain_qa_sea = RetrievalQA.from_chain_type(\n",
    "    llm=llm_sea,\n",
    "    chain_type=\"stuff\",\n",
    "    retriever=db.as_retriever(search_type=\"similarity_score_threshold\", search_kwargs={\"score_threshold\": 0.5}),\n",
    "    return_source_documents=True,\n",
    "    chain_type_kwargs={\"prompt\": prompt_sea_qa},\n",
    "    verbose = True,\n",
    ")"
   ]
  },
  {
   "cell_type": "markdown",
   "metadata": {},
   "source": [
    "## Run Result for OpenThai-GPT (ConversationalRetrievalChain)"
   ]
  },
  {
   "cell_type": "code",
   "execution_count": null,
   "metadata": {},
   "outputs": [],
   "source": [
    "result1_opt = chain_opt(\"ยกเลิกสัญญาเช่ารถก่อนกำหนด ต้องจ่ายค่าเสียหายไหม?\")"
   ]
  },
  {
   "cell_type": "code",
   "execution_count": null,
   "metadata": {},
   "outputs": [],
   "source": [
    "print(result1_opt[\"answer\"])"
   ]
  },
  {
   "cell_type": "code",
   "execution_count": null,
   "metadata": {},
   "outputs": [],
   "source": [
    "result2_opt = chain_opt(\"ยกเลิกสัญญาเช่ารถก่อนกำหนด ต้องจ่าค่าเสียหายเต็มจำนวนไหม?\")"
   ]
  },
  {
   "cell_type": "code",
   "execution_count": null,
   "metadata": {},
   "outputs": [],
   "source": [
    "print(result2_opt[\"answer\"])"
   ]
  },
  {
   "cell_type": "code",
   "execution_count": null,
   "metadata": {},
   "outputs": [],
   "source": [
    "result3_opt = chain_opt(\"หากคำเสียหายในสัญญาเช่ารถสูงมากๆ กฎหมายข้อไหนช่วยได้บ้าง?\")"
   ]
  },
  {
   "cell_type": "code",
   "execution_count": null,
   "metadata": {},
   "outputs": [],
   "source": [
    "print(result3_opt[\"answer\"])"
   ]
  },
  {
   "cell_type": "code",
   "execution_count": null,
   "metadata": {},
   "outputs": [],
   "source": [
    "result4_opt = chain_opt(\"ดอกเบี้ยในสัญญาสามารถสูงสุดต่อปีได้ ร้อยละ เท่าไหร่?\")"
   ]
  },
  {
   "cell_type": "code",
   "execution_count": null,
   "metadata": {},
   "outputs": [],
   "source": [
    "print(result4_opt[\"answer\"])"
   ]
  },
  {
   "cell_type": "code",
   "execution_count": null,
   "metadata": {},
   "outputs": [],
   "source": [
    "result5_opt = chain_opt(\"อธิบายกฎหมาย ป.พ.พ มาตรา 383\")"
   ]
  },
  {
   "cell_type": "code",
   "execution_count": null,
   "metadata": {},
   "outputs": [],
   "source": [
    "print(result5_opt[\"answer\"])"
   ]
  },
  {
   "cell_type": "markdown",
   "metadata": {},
   "source": [
    "## Run Result for OpenThai-GPT (RetrievalQA)"
   ]
  },
  {
   "cell_type": "code",
   "execution_count": null,
   "metadata": {},
   "outputs": [],
   "source": [
    "result1_opt_qa = chain_qa_opt(\"ยกเลิกสัญญาเช่ารถก่อนกำหนด ต้องจ่ายค่าเสียหายไหม?\")"
   ]
  },
  {
   "cell_type": "code",
   "execution_count": null,
   "metadata": {},
   "outputs": [],
   "source": [
    "print(result1_opt_qa[\"result\"])"
   ]
  },
  {
   "cell_type": "code",
   "execution_count": null,
   "metadata": {},
   "outputs": [],
   "source": [
    "result2_opt_qa = chain_qa_opt(\"ยกเลิกสัญญาเช่ารถก่อนกำหนด ต้องจ่าค่าเสียหายเต็มจำนวนไหม?\")"
   ]
  },
  {
   "cell_type": "code",
   "execution_count": null,
   "metadata": {},
   "outputs": [],
   "source": [
    "print(result2_opt_qa[\"result\"])"
   ]
  },
  {
   "cell_type": "code",
   "execution_count": null,
   "metadata": {},
   "outputs": [],
   "source": [
    "result3_opt_qa = chain_qa_opt(\"หากคำเสียหายในสัญญาเช่ารถสูงมากๆ กฎหมายข้อไหนช่วยได้บ้าง?\")"
   ]
  },
  {
   "cell_type": "code",
   "execution_count": null,
   "metadata": {},
   "outputs": [],
   "source": [
    "print(result3_opt_qa[\"result\"])"
   ]
  },
  {
   "cell_type": "code",
   "execution_count": null,
   "metadata": {},
   "outputs": [],
   "source": [
    "result4_opt_qa = chain_qa_opt(\"ดอกเบี้ยในสัญญาสามารถสูงสุดต่อปีได้ ร้อยละ เท่าไหร่?\")"
   ]
  },
  {
   "cell_type": "code",
   "execution_count": null,
   "metadata": {},
   "outputs": [],
   "source": [
    "print(result4_opt_qa[\"result\"])"
   ]
  },
  {
   "cell_type": "code",
   "execution_count": null,
   "metadata": {},
   "outputs": [],
   "source": [
    "result5_opt_qa = chain_qa_opt(\"อธิบายกฎหมาย ป.พ.พ มาตรา 383\")"
   ]
  },
  {
   "cell_type": "code",
   "execution_count": null,
   "metadata": {},
   "outputs": [],
   "source": [
    "print(result5_opt_qa[\"result\"])"
   ]
  },
  {
   "cell_type": "markdown",
   "metadata": {},
   "source": [
    "## Run Result for SeaLLM (ConversationalRetrievalChain)"
   ]
  },
  {
   "cell_type": "code",
   "execution_count": 334,
   "metadata": {},
   "outputs": [
    {
     "name": "stdout",
     "output_type": "stream",
     "text": [
      "\n",
      "\n",
      "\u001b[1m> Entering new StuffDocumentsChain chain...\u001b[0m\n",
      "\n",
      "\n",
      "\u001b[1m> Entering new LLMChain chain...\u001b[0m\n",
      "Prompt after formatting:\n",
      "\u001b[32;1m\u001b[1;3m<bos> \n",
      "    <|im_start|>system\n",
      "    You are an expert, helpful, respectful and honest Lawyer assistant. AIlways answer as helpfully as possible.Please ensure that your responses are socially unbiased and positive in nature.If a question does not make any sense, or is not factually coherent, explain why instead of answering something not correct. If you don't know the answer to a question, please don't share false information.\n",
      "    มีปัญหาต้องวินิจฉัยตามฎีกาของโจทก์ว่า โจทก์มีสิทธิเรียกค่าเสียหายจากจำเลยหรือไม่ โจทก์ฎีกาได้ความว่า สัญญาเช่า\n",
      "รถยนต์ ข้อ 9.2 กำหนดว่า “ในกรณีที่ผู้เช่าต้องการเลิกสัญญาก่อนกำหนด โดยมิใช่เป็นความผิดของผู้ให้เช่า ผู้เช่าต้องแจ้งให้ผู้ให้เช่า\n",
      "ทราบล่วงหน้าเป็นลายลักษณ์อักษรไม่น้อยกว่า 30 วัน ทั้งนี้ผู้เช่าต้องชำระค่าเสียหายให้แก่ผู้ให้เช่าตามเงื่อนไขดังนี้... 9.2.2 กรณี\n",
      "ยกเลิกสัญญาในปีที่ 2 ผู้เช่าต้องชำระค่าเสียหายเป็นจำนวนเงินเท่ากับร้อยละ 40 ของยอดค่าเช่าพึงชำระ นับตั้งแต่วันบอกเลิกสัญญา\n",
      "จนถึงวันสิ้นสุดสัญญา...” เห็นว่า สัญญาเช่ารถยนต์ดังกล่าวเป็นการให้เช่าแบบลิสซิ่งซึ่งมีกำหนดระยะเวลาเช่า 5 ปี หากครบกำหนด\n",
      "โจทก์จะได้รับค่าเช่า 876,000 บาท แต่การที่จำเลยบอกเลิกสัญญาโดยการคืนรถยนต์ที่เช่าและให้โจทก์รับรถวันที่ 19 มีนาคม 2561\n",
      "ตามจดหมายอิเล็กทรอนิกส์ลงวันที่ 16 มีนาคม 2561 หลังจากทำสัญญาเช่าเพียง 1 ปี 4 เดือน 19 วัน โจทก์ได้รับค่าเช่าเพียง\n",
      "242,548.39 บาท จึงไม่ได้รับค่าเช่าส่วนที่เหลือ 633,451.61 บาท แต่อย่างไรก็ตามสัญญา ข้อ 9.2.2 ดังกล่าวเป็นการกำหนดค่าเสีย\n",
      "\n",
      "มีปัญหาต้องวินิจฉัยตามฎีกาของโจทก์ว่า โจทก์มีสิทธิเรียกค่าเสียหายจากจำเลยหรือไม่ โจทก์ฎีกาได้ความว่า สัญญาเช่า\n",
      "รถยนต์ ข้อ 9.2 กำหนดว่า “ในกรณีที่ผู้เช่าต้องการเลิกสัญญาก่อนกำหนด โดยมิใช่เป็นความผิดของผู้ให้เช่า ผู้เช่าต้องแจ้งให้ผู้ให้เช่า\n",
      "ทราบล่วงหน้าเป็นลายลักษณ์อักษรไม่น้อยกว่า 30 วัน ทั้งนี้ผู้เช่าต้องชำระค่าเสียหายให้แก่ผู้ให้เช่าตามเงื่อนไขดังนี้... 9.2.2 กรณี\n",
      "ยกเลิกสัญญาในปีที่ 2 ผู้เช่าต้องชำระค่าเสียหายเป็นจำนวนเงินเท่ากับร้อยละ 40 ของยอดค่าเช่าพึงชำระ นับตั้งแต่วันบอกเลิกสัญญา\n",
      "จนถึงวันสิ้นสุดสัญญา...” เห็นว่า สัญญาเช่ารถยนต์ดังกล่าวเป็นการให้เช่าแบบลิสซิ่งซึ่งมีกำหนดระยะเวลาเช่า 5 ปี หากครบกำหนด\n",
      "โจทก์จะได้รับค่าเช่า 876,000 บาท แต่การที่จำเลยบอกเลิกสัญญาโดยการคืนรถยนต์ที่เช่าและให้โจทก์รับรถวันที่ 19 มีนาคม 2561\n",
      "ตามจดหมายอิเล็กทรอนิกส์ลงวันที่ 16 มีนาคม 2561 หลังจากทำสัญญาเช่าเพียง 1 ปี 4 เดือน 19 วัน โจทก์ได้รับค่าเช่าเพียง\n",
      "242,548.39 บาท จึงไม่ได้รับค่าเช่าส่วนที่เหลือ 633,451.61 บาท แต่อย่างไรก็ตามสัญญา ข้อ 9.2.2 ดังกล่าวเป็นการกำหนดค่าเสีย\n",
      "\n",
      "มีปัญหาต้องวินิจฉัยตามฎีกาของโจทก์ว่า โจทก์มีสิทธิเรียกค่าเสียหายจากจำเลยหรือไม่ โจทก์ฎีกาได้ความว่า สัญญาเช่า\n",
      "รถยนต์ ข้อ 9.2 กำหนดว่า “ในกรณีที่ผู้เช่าต้องการเลิกสัญญาก่อนกำหนด โดยมิใช่เป็นความผิดของผู้ให้เช่า ผู้เช่าต้องแจ้งให้ผู้ให้เช่า\n",
      "ทราบล่วงหน้าเป็นลายลักษณ์อักษรไม่น้อยกว่า 30 วัน ทั้งนี้ผู้เช่าต้องชำระค่าเสียหายให้แก่ผู้ให้เช่าตามเงื่อนไขดังนี้... 9.2.2 กรณี\n",
      "ยกเลิกสัญญาในปีที่ 2 ผู้เช่าต้องชำระค่าเสียหายเป็นจำนวนเงินเท่ากับร้อยละ 40 ของยอดค่าเช่าพึงชำระ นับตั้งแต่วันบอกเลิกสัญญา\n",
      "จนถึงวันสิ้นสุดสัญญา...” เห็นว่า สัญญาเช่ารถยนต์ดังกล่าวเป็นการให้เช่าแบบลิสซิ่งซึ่งมีกำหนดระยะเวลาเช่า 5 ปี หากครบกำหนด\n",
      "โจทก์จะได้รับค่าเช่า 876,000 บาท แต่การที่จำเลยบอกเลิกสัญญาโดยการคืนรถยนต์ที่เช่าและให้โจทก์รับรถวันที่ 19 มีนาคม 2561\n",
      "ตามจดหมายอิเล็กทรอนิกส์ลงวันที่ 16 มีนาคม 2561 หลังจากทำสัญญาเช่าเพียง 1 ปี 4 เดือน 19 วัน โจทก์ได้รับค่าเช่าเพียง\n",
      "242,548.39 บาท จึงไม่ได้รับค่าเช่าส่วนที่เหลือ 633,451.61 บาท แต่อย่างไรก็ตามสัญญา ข้อ 9.2.2 ดังกล่าวเป็นการกำหนดค่าเสีย\n",
      "\n",
      "มีปัญหาต้องวินิจฉัยตามฎีกาของโจทก์ว่า โจทก์มีสิทธิเรียกค่าเสียหายจากจำเลยหรือไม่ โจทก์ฎีกาได้ความว่า สัญญาเช่า\n",
      "รถยนต์ ข้อ 9.2 กำหนดว่า “ในกรณีที่ผู้เช่าต้องการเลิกสัญญาก่อนกำหนด โดยมิใช่เป็นความผิดของผู้ให้เช่า ผู้เช่าต้องแจ้งให้ผู้ให้เช่า\n",
      "ทราบล่วงหน้าเป็นลายลักษณ์อักษรไม่น้อยกว่า 30 วัน ทั้งนี้ผู้เช่าต้องชำระค่าเสียหายให้แก่ผู้ให้เช่าตามเงื่อนไขดังนี้... 9.2.2 กรณี\n",
      "ยกเลิกสัญญาในปีที่ 2 ผู้เช่าต้องชำระค่าเสียหายเป็นจำนวนเงินเท่ากับร้อยละ 40 ของยอดค่าเช่าพึงชำระ นับตั้งแต่วันบอกเลิกสัญญา\n",
      "จนถึงวันสิ้นสุดสัญญา...” เห็นว่า สัญญาเช่ารถยนต์ดังกล่าวเป็นการให้เช่าแบบลิสซิ่งซึ่งมีกำหนดระยะเวลาเช่า 5 ปี หากครบกำหนด\n",
      "โจทก์จะได้รับค่าเช่า 876,000 บาท แต่การที่จำเลยบอกเลิกสัญญาโดยการคืนรถยนต์ที่เช่าและให้โจทก์รับรถวันที่ 19 มีนาคม 2561\n",
      "ตามจดหมายอิเล็กทรอนิกส์ลงวันที่ 16 มีนาคม 2561 หลังจากทำสัญญาเช่าเพียง 1 ปี 4 เดือน 19 วัน โจทก์ได้รับค่าเช่าเพียง\n",
      "242,548.39 บาท จึงไม่ได้รับค่าเช่าส่วนที่เหลือ 633,451.61 บาท แต่อย่างไรก็ตามสัญญา ข้อ 9.2.2 ดังกล่าวเป็นการกำหนดค่าเสีย\n",
      "    Use the following pieces of context to answer the question at the end. If you don't know the answer to a question, please don't share false information. and answer all the question in Thai language.\n",
      "    <eos>\n",
      "    <|im_start|>user\n",
      "    \n",
      "    ยกเลิกสัญญาเช่ารถก่อนกำหนด ต้องจ่ายค่าเสียหายไหม?\n",
      "    <eos>\n",
      "\u001b[0m\n"
     ]
    },
    {
     "name": "stderr",
     "output_type": "stream",
     "text": [
      "\n",
      "llama_print_timings:        load time =   70345.26 ms\n",
      "llama_print_timings:      sample time =      74.86 ms /   256 runs   (    0.29 ms per token,  3419.49 tokens per second)\n",
      "llama_print_timings: prompt eval time =  241185.53 ms /  1966 tokens (  122.68 ms per token,     8.15 tokens per second)\n",
      "llama_print_timings:        eval time =   97527.94 ms /   255 runs   (  382.46 ms per token,     2.61 tokens per second)\n",
      "llama_print_timings:       total time =  345461.79 ms /  2221 tokens\n"
     ]
    },
    {
     "name": "stdout",
     "output_type": "stream",
     "text": [
      "\n",
      "\u001b[1m> Finished chain.\u001b[0m\n",
      "\n",
      "\u001b[1m> Finished chain.\u001b[0m\n"
     ]
    }
   ],
   "source": [
    "result1_sea = chain_sea(\"ยกเลิกสัญญาเช่ารถก่อนกำหนด ต้องจ่ายค่าเสียหายไหม?\")"
   ]
  },
  {
   "cell_type": "code",
   "execution_count": 335,
   "metadata": {},
   "outputs": [
    {
     "name": "stdout",
     "output_type": "stream",
     "text": [
      "    \n",
      "    จากบริบทข้างต้น สัญญาเช่ารถยนต์ที่มีกำหนดระยะเวลาเช่า 5 ปี หากโจทก์ต้องการยกเลิกสัญญาเช่าก่อนกำหนด โดยการคืนรถยนต์ที่เช่าและบอกเลิกสัญญาในวันที่ 19 มีนาคม 2561 โจทก์ต้องชำระค่าเสียหายตามเงื่อนไขในสัญญา\n"
     ]
    }
   ],
   "source": [
    "print(result1_sea[\"answer\"])"
   ]
  },
  {
   "cell_type": "code",
   "execution_count": 336,
   "metadata": {},
   "outputs": [
    {
     "name": "stderr",
     "output_type": "stream",
     "text": [
      "Llama.generate: prefix-match hit\n"
     ]
    },
    {
     "name": "stdout",
     "output_type": "stream",
     "text": [
      "\n",
      "\n",
      "\u001b[1m> Entering new LLMChain chain...\u001b[0m\n",
      "Prompt after formatting:\n",
      "\u001b[32;1m\u001b[1;3mGiven the following conversation and a follow up question, rephrase the follow up question to be a standalone question, in its original language.\n",
      "\n",
      "Chat History:\n",
      "\n",
      "Human: ยกเลิกสัญญาเช่ารถก่อนกำหนด ต้องจ่ายค่าเสียหายไหม?\n",
      "Assistant:     \n",
      "    จากบริบทข้างต้น สัญญาเช่ารถยนต์ที่มีกำหนดระยะเวลาเช่า 5 ปี หากโจทก์ต้องการยกเลิกสัญญาเช่าก่อนกำหนด โดยการคืนรถยนต์ที่เช่าและบอกเลิกสัญญาในวันที่ 19 มีนาคม 2561 โจทก์ต้องชำระค่าเสียหายตามเงื่อนไขในสัญญา\n",
      "Follow Up Input: ยกเลิกสัญญาเช่ารถก่อนกำหนด ต้องจ่าค่าเสียหายเต็มจำนวนไหม?\n",
      "Standalone question:\u001b[0m\n"
     ]
    },
    {
     "name": "stderr",
     "output_type": "stream",
     "text": [
      "\n",
      "llama_print_timings:        load time =   70345.26 ms\n",
      "llama_print_timings:      sample time =       9.11 ms /    29 runs   (    0.31 ms per token,  3183.32 tokens per second)\n",
      "llama_print_timings: prompt eval time =   23695.69 ms /   188 tokens (  126.04 ms per token,     7.93 tokens per second)\n",
      "llama_print_timings:        eval time =    9495.32 ms /    28 runs   (  339.12 ms per token,     2.95 tokens per second)\n",
      "llama_print_timings:       total time =   33939.20 ms /   216 tokens\n"
     ]
    },
    {
     "name": "stdout",
     "output_type": "stream",
     "text": [
      "\n",
      "\u001b[1m> Finished chain.\u001b[0m\n",
      "\n",
      "\n",
      "\u001b[1m> Entering new StuffDocumentsChain chain...\u001b[0m\n",
      "\n",
      "\n",
      "\u001b[1m> Entering new LLMChain chain...\u001b[0m\n",
      "Prompt after formatting:\n",
      "\u001b[32;1m\u001b[1;3m<bos> \n",
      "    <|im_start|>system\n",
      "    You are an expert, helpful, respectful and honest Lawyer assistant. AIlways answer as helpfully as possible.Please ensure that your responses are socially unbiased and positive in nature.If a question does not make any sense, or is not factually coherent, explain why instead of answering something not correct. If you don't know the answer to a question, please don't share false information.\n",
      "    มีปัญหาต้องวินิจฉัยตามฎีกาของโจทก์ว่า โจทก์มีสิทธิเรียกค่าเสียหายจากจำเลยหรือไม่ โจทก์ฎีกาได้ความว่า สัญญาเช่า\n",
      "รถยนต์ ข้อ 9.2 กำหนดว่า “ในกรณีที่ผู้เช่าต้องการเลิกสัญญาก่อนกำหนด โดยมิใช่เป็นความผิดของผู้ให้เช่า ผู้เช่าต้องแจ้งให้ผู้ให้เช่า\n",
      "ทราบล่วงหน้าเป็นลายลักษณ์อักษรไม่น้อยกว่า 30 วัน ทั้งนี้ผู้เช่าต้องชำระค่าเสียหายให้แก่ผู้ให้เช่าตามเงื่อนไขดังนี้... 9.2.2 กรณี\n",
      "ยกเลิกสัญญาในปีที่ 2 ผู้เช่าต้องชำระค่าเสียหายเป็นจำนวนเงินเท่ากับร้อยละ 40 ของยอดค่าเช่าพึงชำระ นับตั้งแต่วันบอกเลิกสัญญา\n",
      "จนถึงวันสิ้นสุดสัญญา...” เห็นว่า สัญญาเช่ารถยนต์ดังกล่าวเป็นการให้เช่าแบบลิสซิ่งซึ่งมีกำหนดระยะเวลาเช่า 5 ปี หากครบกำหนด\n",
      "โจทก์จะได้รับค่าเช่า 876,000 บาท แต่การที่จำเลยบอกเลิกสัญญาโดยการคืนรถยนต์ที่เช่าและให้โจทก์รับรถวันที่ 19 มีนาคม 2561\n",
      "ตามจดหมายอิเล็กทรอนิกส์ลงวันที่ 16 มีนาคม 2561 หลังจากทำสัญญาเช่าเพียง 1 ปี 4 เดือน 19 วัน โจทก์ได้รับค่าเช่าเพียง\n",
      "242,548.39 บาท จึงไม่ได้รับค่าเช่าส่วนที่เหลือ 633,451.61 บาท แต่อย่างไรก็ตามสัญญา ข้อ 9.2.2 ดังกล่าวเป็นการกำหนดค่าเสีย\n",
      "\n",
      "มีปัญหาต้องวินิจฉัยตามฎีกาของโจทก์ว่า โจทก์มีสิทธิเรียกค่าเสียหายจากจำเลยหรือไม่ โจทก์ฎีกาได้ความว่า สัญญาเช่า\n",
      "รถยนต์ ข้อ 9.2 กำหนดว่า “ในกรณีที่ผู้เช่าต้องการเลิกสัญญาก่อนกำหนด โดยมิใช่เป็นความผิดของผู้ให้เช่า ผู้เช่าต้องแจ้งให้ผู้ให้เช่า\n",
      "ทราบล่วงหน้าเป็นลายลักษณ์อักษรไม่น้อยกว่า 30 วัน ทั้งนี้ผู้เช่าต้องชำระค่าเสียหายให้แก่ผู้ให้เช่าตามเงื่อนไขดังนี้... 9.2.2 กรณี\n",
      "ยกเลิกสัญญาในปีที่ 2 ผู้เช่าต้องชำระค่าเสียหายเป็นจำนวนเงินเท่ากับร้อยละ 40 ของยอดค่าเช่าพึงชำระ นับตั้งแต่วันบอกเลิกสัญญา\n",
      "จนถึงวันสิ้นสุดสัญญา...” เห็นว่า สัญญาเช่ารถยนต์ดังกล่าวเป็นการให้เช่าแบบลิสซิ่งซึ่งมีกำหนดระยะเวลาเช่า 5 ปี หากครบกำหนด\n",
      "โจทก์จะได้รับค่าเช่า 876,000 บาท แต่การที่จำเลยบอกเลิกสัญญาโดยการคืนรถยนต์ที่เช่าและให้โจทก์รับรถวันที่ 19 มีนาคม 2561\n",
      "ตามจดหมายอิเล็กทรอนิกส์ลงวันที่ 16 มีนาคม 2561 หลังจากทำสัญญาเช่าเพียง 1 ปี 4 เดือน 19 วัน โจทก์ได้รับค่าเช่าเพียง\n",
      "242,548.39 บาท จึงไม่ได้รับค่าเช่าส่วนที่เหลือ 633,451.61 บาท แต่อย่างไรก็ตามสัญญา ข้อ 9.2.2 ดังกล่าวเป็นการกำหนดค่าเสีย\n",
      "\n",
      "มีปัญหาต้องวินิจฉัยตามฎีกาของโจทก์ว่า โจทก์มีสิทธิเรียกค่าเสียหายจากจำเลยหรือไม่ โจทก์ฎีกาได้ความว่า สัญญาเช่า\n",
      "รถยนต์ ข้อ 9.2 กำหนดว่า “ในกรณีที่ผู้เช่าต้องการเลิกสัญญาก่อนกำหนด โดยมิใช่เป็นความผิดของผู้ให้เช่า ผู้เช่าต้องแจ้งให้ผู้ให้เช่า\n",
      "ทราบล่วงหน้าเป็นลายลักษณ์อักษรไม่น้อยกว่า 30 วัน ทั้งนี้ผู้เช่าต้องชำระค่าเสียหายให้แก่ผู้ให้เช่าตามเงื่อนไขดังนี้... 9.2.2 กรณี\n",
      "ยกเลิกสัญญาในปีที่ 2 ผู้เช่าต้องชำระค่าเสียหายเป็นจำนวนเงินเท่ากับร้อยละ 40 ของยอดค่าเช่าพึงชำระ นับตั้งแต่วันบอกเลิกสัญญา\n",
      "จนถึงวันสิ้นสุดสัญญา...” เห็นว่า สัญญาเช่ารถยนต์ดังกล่าวเป็นการให้เช่าแบบลิสซิ่งซึ่งมีกำหนดระยะเวลาเช่า 5 ปี หากครบกำหนด\n",
      "โจทก์จะได้รับค่าเช่า 876,000 บาท แต่การที่จำเลยบอกเลิกสัญญาโดยการคืนรถยนต์ที่เช่าและให้โจทก์รับรถวันที่ 19 มีนาคม 2561\n",
      "ตามจดหมายอิเล็กทรอนิกส์ลงวันที่ 16 มีนาคม 2561 หลังจากทำสัญญาเช่าเพียง 1 ปี 4 เดือน 19 วัน โจทก์ได้รับค่าเช่าเพียง\n",
      "242,548.39 บาท จึงไม่ได้รับค่าเช่าส่วนที่เหลือ 633,451.61 บาท แต่อย่างไรก็ตามสัญญา ข้อ 9.2.2 ดังกล่าวเป็นการกำหนดค่าเสีย\n",
      "\n",
      "มีปัญหาต้องวินิจฉัยตามฎีกาของโจทก์ว่า โจทก์มีสิทธิเรียกค่าเสียหายจากจำเลยหรือไม่ โจทก์ฎีกาได้ความว่า สัญญาเช่า\n",
      "รถยนต์ ข้อ 9.2 กำหนดว่า “ในกรณีที่ผู้เช่าต้องการเลิกสัญญาก่อนกำหนด โดยมิใช่เป็นความผิดของผู้ให้เช่า ผู้เช่าต้องแจ้งให้ผู้ให้เช่า\n",
      "ทราบล่วงหน้าเป็นลายลักษณ์อักษรไม่น้อยกว่า 30 วัน ทั้งนี้ผู้เช่าต้องชำระค่าเสียหายให้แก่ผู้ให้เช่าตามเงื่อนไขดังนี้... 9.2.2 กรณี\n",
      "ยกเลิกสัญญาในปีที่ 2 ผู้เช่าต้องชำระค่าเสียหายเป็นจำนวนเงินเท่ากับร้อยละ 40 ของยอดค่าเช่าพึงชำระ นับตั้งแต่วันบอกเลิกสัญญา\n",
      "จนถึงวันสิ้นสุดสัญญา...” เห็นว่า สัญญาเช่ารถยนต์ดังกล่าวเป็นการให้เช่าแบบลิสซิ่งซึ่งมีกำหนดระยะเวลาเช่า 5 ปี หากครบกำหนด\n",
      "โจทก์จะได้รับค่าเช่า 876,000 บาท แต่การที่จำเลยบอกเลิกสัญญาโดยการคืนรถยนต์ที่เช่าและให้โจทก์รับรถวันที่ 19 มีนาคม 2561\n",
      "ตามจดหมายอิเล็กทรอนิกส์ลงวันที่ 16 มีนาคม 2561 หลังจากทำสัญญาเช่าเพียง 1 ปี 4 เดือน 19 วัน โจทก์ได้รับค่าเช่าเพียง\n",
      "242,548.39 บาท จึงไม่ได้รับค่าเช่าส่วนที่เหลือ 633,451.61 บาท แต่อย่างไรก็ตามสัญญา ข้อ 9.2.2 ดังกล่าวเป็นการกำหนดค่าเสีย\n",
      "    Use the following pieces of context to answer the question at the end. If you don't know the answer to a question, please don't share false information. and answer all the question in Thai language.\n",
      "    <eos>\n",
      "    <|im_start|>user\n",
      "    \n",
      "Human: ยกเลิกสัญญาเช่ารถก่อนกำหนด ต้องจ่ายค่าเสียหายไหม?\n",
      "Assistant:     \n",
      "    จากบริบทข้างต้น สัญญาเช่ารถยนต์ที่มีกำหนดระยะเวลาเช่า 5 ปี หากโจทก์ต้องการยกเลิกสัญญาเช่าก่อนกำหนด โดยการคืนรถยนต์ที่เช่าและบอกเลิกสัญญาในวันที่ 19 มีนาคม 2561 โจทก์ต้องชำระค่าเสียหายตามเงื่อนไขในสัญญา\n",
      "     \n",
      "\n",
      " ยกเลิกสัญญาเช่ารถก่อนกำหนด จะต้องจ่ายค่าเสียหายเต็มจำนวนหรือไม่?\n",
      "    <eos>\n",
      "\u001b[0m\n"
     ]
    },
    {
     "name": "stderr",
     "output_type": "stream",
     "text": [
      "Llama.generate: prefix-match hit\n",
      "\n",
      "llama_print_timings:        load time =   70345.26 ms\n",
      "llama_print_timings:      sample time =      76.83 ms /   256 runs   (    0.30 ms per token,  3332.16 tokens per second)\n",
      "llama_print_timings: prompt eval time =  241402.02 ms /  2095 tokens (  115.23 ms per token,     8.68 tokens per second)\n",
      "llama_print_timings:        eval time =   97767.35 ms /   255 runs   (  383.40 ms per token,     2.61 tokens per second)\n",
      "llama_print_timings:       total time =  345862.80 ms /  2350 tokens\n"
     ]
    },
    {
     "name": "stdout",
     "output_type": "stream",
     "text": [
      "\n",
      "\u001b[1m> Finished chain.\u001b[0m\n",
      "\n",
      "\u001b[1m> Finished chain.\u001b[0m\n"
     ]
    }
   ],
   "source": [
    "result2_sea = chain_sea(\"ยกเลิกสัญญาเช่ารถก่อนกำหนด ต้องจ่าค่าเสียหายเต็มจำนวนไหม?\")"
   ]
  },
  {
   "cell_type": "code",
   "execution_count": 337,
   "metadata": {},
   "outputs": [
    {
     "name": "stdout",
     "output_type": "stream",
     "text": [
      "Assistant:     \n",
      "    จากบริบทข้างต้น สัญญาเช่ารถยนต์กำหนดว่า หากยกเลิกสัญญาเช่าก่อนกำหนดโดยไม่ใช่ความผิดของผู้ให้เช่า ผู้เช่าจะต้องชำระค่าเสียหายตามเงื่อนไขที่กำหนดไว้ในสัญญา ในกรณีนี้ โจทก์จะต้องชำระค่าเสียหายตามเงื่อนไขใน\n"
     ]
    }
   ],
   "source": [
    "print(result2_sea[\"answer\"])"
   ]
  },
  {
   "cell_type": "code",
   "execution_count": 338,
   "metadata": {},
   "outputs": [
    {
     "name": "stderr",
     "output_type": "stream",
     "text": [
      "Llama.generate: prefix-match hit\n"
     ]
    },
    {
     "name": "stdout",
     "output_type": "stream",
     "text": [
      "\n",
      "\n",
      "\u001b[1m> Entering new LLMChain chain...\u001b[0m\n",
      "Prompt after formatting:\n",
      "\u001b[32;1m\u001b[1;3mGiven the following conversation and a follow up question, rephrase the follow up question to be a standalone question, in its original language.\n",
      "\n",
      "Chat History:\n",
      "\n",
      "Human: ยกเลิกสัญญาเช่ารถก่อนกำหนด ต้องจ่ายค่าเสียหายไหม?\n",
      "Assistant:     \n",
      "    จากบริบทข้างต้น สัญญาเช่ารถยนต์ที่มีกำหนดระยะเวลาเช่า 5 ปี หากโจทก์ต้องการยกเลิกสัญญาเช่าก่อนกำหนด โดยการคืนรถยนต์ที่เช่าและบอกเลิกสัญญาในวันที่ 19 มีนาคม 2561 โจทก์ต้องชำระค่าเสียหายตามเงื่อนไขในสัญญา\n",
      "Human: ยกเลิกสัญญาเช่ารถก่อนกำหนด ต้องจ่าค่าเสียหายเต็มจำนวนไหม?\n",
      "Assistant: Assistant:     \n",
      "    จากบริบทข้างต้น สัญญาเช่ารถยนต์กำหนดว่า หากยกเลิกสัญญาเช่าก่อนกำหนดโดยไม่ใช่ความผิดของผู้ให้เช่า ผู้เช่าจะต้องชำระค่าเสียหายตามเงื่อนไขที่กำหนดไว้ในสัญญา ในกรณีนี้ โจทก์จะต้องชำระค่าเสียหายตามเงื่อนไขใน\n",
      "Follow Up Input: หากคำเสียหายในสัญญาเช่ารถสูงมากๆ กฎหมายข้อไหนช่วยได้บ้าง?\n",
      "Standalone question:\u001b[0m\n"
     ]
    },
    {
     "name": "stderr",
     "output_type": "stream",
     "text": [
      "\n",
      "llama_print_timings:        load time =   70345.26 ms\n",
      "llama_print_timings:      sample time =       7.00 ms /    24 runs   (    0.29 ms per token,  3430.53 tokens per second)\n",
      "llama_print_timings: prompt eval time =   34725.64 ms /   310 tokens (  112.02 ms per token,     8.93 tokens per second)\n",
      "llama_print_timings:        eval time =    7771.04 ms /    23 runs   (  337.87 ms per token,     2.96 tokens per second)\n",
      "llama_print_timings:       total time =   43107.21 ms /   333 tokens\n"
     ]
    },
    {
     "name": "stdout",
     "output_type": "stream",
     "text": [
      "\n",
      "\u001b[1m> Finished chain.\u001b[0m\n",
      "\n",
      "\n",
      "\u001b[1m> Entering new StuffDocumentsChain chain...\u001b[0m\n",
      "\n",
      "\n",
      "\u001b[1m> Entering new LLMChain chain...\u001b[0m\n",
      "Prompt after formatting:\n",
      "\u001b[32;1m\u001b[1;3m<bos> \n",
      "    <|im_start|>system\n",
      "    You are an expert, helpful, respectful and honest Lawyer assistant. AIlways answer as helpfully as possible.Please ensure that your responses are socially unbiased and positive in nature.If a question does not make any sense, or is not factually coherent, explain why instead of answering something not correct. If you don't know the answer to a question, please don't share false information.\n",
      "    มีปัญหาต้องวินิจฉัยตามฎีกาของโจทก์ว่า โจทก์มีสิทธิเรียกค่าเสียหายจากจำเลยหรือไม่ โจทก์ฎีกาได้ความว่า สัญญาเช่า\n",
      "รถยนต์ ข้อ 9.2 กำหนดว่า “ในกรณีที่ผู้เช่าต้องการเลิกสัญญาก่อนกำหนด โดยมิใช่เป็นความผิดของผู้ให้เช่า ผู้เช่าต้องแจ้งให้ผู้ให้เช่า\n",
      "ทราบล่วงหน้าเป็นลายลักษณ์อักษรไม่น้อยกว่า 30 วัน ทั้งนี้ผู้เช่าต้องชำระค่าเสียหายให้แก่ผู้ให้เช่าตามเงื่อนไขดังนี้... 9.2.2 กรณี\n",
      "ยกเลิกสัญญาในปีที่ 2 ผู้เช่าต้องชำระค่าเสียหายเป็นจำนวนเงินเท่ากับร้อยละ 40 ของยอดค่าเช่าพึงชำระ นับตั้งแต่วันบอกเลิกสัญญา\n",
      "จนถึงวันสิ้นสุดสัญญา...” เห็นว่า สัญญาเช่ารถยนต์ดังกล่าวเป็นการให้เช่าแบบลิสซิ่งซึ่งมีกำหนดระยะเวลาเช่า 5 ปี หากครบกำหนด\n",
      "โจทก์จะได้รับค่าเช่า 876,000 บาท แต่การที่จำเลยบอกเลิกสัญญาโดยการคืนรถยนต์ที่เช่าและให้โจทก์รับรถวันที่ 19 มีนาคม 2561\n",
      "ตามจดหมายอิเล็กทรอนิกส์ลงวันที่ 16 มีนาคม 2561 หลังจากทำสัญญาเช่าเพียง 1 ปี 4 เดือน 19 วัน โจทก์ได้รับค่าเช่าเพียง\n",
      "242,548.39 บาท จึงไม่ได้รับค่าเช่าส่วนที่เหลือ 633,451.61 บาท แต่อย่างไรก็ตามสัญญา ข้อ 9.2.2 ดังกล่าวเป็นการกำหนดค่าเสีย\n",
      "\n",
      "มีปัญหาต้องวินิจฉัยตามฎีกาของโจทก์ว่า โจทก์มีสิทธิเรียกค่าเสียหายจากจำเลยหรือไม่ โจทก์ฎีกาได้ความว่า สัญญาเช่า\n",
      "รถยนต์ ข้อ 9.2 กำหนดว่า “ในกรณีที่ผู้เช่าต้องการเลิกสัญญาก่อนกำหนด โดยมิใช่เป็นความผิดของผู้ให้เช่า ผู้เช่าต้องแจ้งให้ผู้ให้เช่า\n",
      "ทราบล่วงหน้าเป็นลายลักษณ์อักษรไม่น้อยกว่า 30 วัน ทั้งนี้ผู้เช่าต้องชำระค่าเสียหายให้แก่ผู้ให้เช่าตามเงื่อนไขดังนี้... 9.2.2 กรณี\n",
      "ยกเลิกสัญญาในปีที่ 2 ผู้เช่าต้องชำระค่าเสียหายเป็นจำนวนเงินเท่ากับร้อยละ 40 ของยอดค่าเช่าพึงชำระ นับตั้งแต่วันบอกเลิกสัญญา\n",
      "จนถึงวันสิ้นสุดสัญญา...” เห็นว่า สัญญาเช่ารถยนต์ดังกล่าวเป็นการให้เช่าแบบลิสซิ่งซึ่งมีกำหนดระยะเวลาเช่า 5 ปี หากครบกำหนด\n",
      "โจทก์จะได้รับค่าเช่า 876,000 บาท แต่การที่จำเลยบอกเลิกสัญญาโดยการคืนรถยนต์ที่เช่าและให้โจทก์รับรถวันที่ 19 มีนาคม 2561\n",
      "ตามจดหมายอิเล็กทรอนิกส์ลงวันที่ 16 มีนาคม 2561 หลังจากทำสัญญาเช่าเพียง 1 ปี 4 เดือน 19 วัน โจทก์ได้รับค่าเช่าเพียง\n",
      "242,548.39 บาท จึงไม่ได้รับค่าเช่าส่วนที่เหลือ 633,451.61 บาท แต่อย่างไรก็ตามสัญญา ข้อ 9.2.2 ดังกล่าวเป็นการกำหนดค่าเสีย\n",
      "\n",
      "มีปัญหาต้องวินิจฉัยตามฎีกาของโจทก์ว่า โจทก์มีสิทธิเรียกค่าเสียหายจากจำเลยหรือไม่ โจทก์ฎีกาได้ความว่า สัญญาเช่า\n",
      "รถยนต์ ข้อ 9.2 กำหนดว่า “ในกรณีที่ผู้เช่าต้องการเลิกสัญญาก่อนกำหนด โดยมิใช่เป็นความผิดของผู้ให้เช่า ผู้เช่าต้องแจ้งให้ผู้ให้เช่า\n",
      "ทราบล่วงหน้าเป็นลายลักษณ์อักษรไม่น้อยกว่า 30 วัน ทั้งนี้ผู้เช่าต้องชำระค่าเสียหายให้แก่ผู้ให้เช่าตามเงื่อนไขดังนี้... 9.2.2 กรณี\n",
      "ยกเลิกสัญญาในปีที่ 2 ผู้เช่าต้องชำระค่าเสียหายเป็นจำนวนเงินเท่ากับร้อยละ 40 ของยอดค่าเช่าพึงชำระ นับตั้งแต่วันบอกเลิกสัญญา\n",
      "จนถึงวันสิ้นสุดสัญญา...” เห็นว่า สัญญาเช่ารถยนต์ดังกล่าวเป็นการให้เช่าแบบลิสซิ่งซึ่งมีกำหนดระยะเวลาเช่า 5 ปี หากครบกำหนด\n",
      "โจทก์จะได้รับค่าเช่า 876,000 บาท แต่การที่จำเลยบอกเลิกสัญญาโดยการคืนรถยนต์ที่เช่าและให้โจทก์รับรถวันที่ 19 มีนาคม 2561\n",
      "ตามจดหมายอิเล็กทรอนิกส์ลงวันที่ 16 มีนาคม 2561 หลังจากทำสัญญาเช่าเพียง 1 ปี 4 เดือน 19 วัน โจทก์ได้รับค่าเช่าเพียง\n",
      "242,548.39 บาท จึงไม่ได้รับค่าเช่าส่วนที่เหลือ 633,451.61 บาท แต่อย่างไรก็ตามสัญญา ข้อ 9.2.2 ดังกล่าวเป็นการกำหนดค่าเสีย\n",
      "\n",
      "มีปัญหาต้องวินิจฉัยตามฎีกาของโจทก์ว่า โจทก์มีสิทธิเรียกค่าเสียหายจากจำเลยหรือไม่ โจทก์ฎีกาได้ความว่า สัญญาเช่า\n",
      "รถยนต์ ข้อ 9.2 กำหนดว่า “ในกรณีที่ผู้เช่าต้องการเลิกสัญญาก่อนกำหนด โดยมิใช่เป็นความผิดของผู้ให้เช่า ผู้เช่าต้องแจ้งให้ผู้ให้เช่า\n",
      "ทราบล่วงหน้าเป็นลายลักษณ์อักษรไม่น้อยกว่า 30 วัน ทั้งนี้ผู้เช่าต้องชำระค่าเสียหายให้แก่ผู้ให้เช่าตามเงื่อนไขดังนี้... 9.2.2 กรณี\n",
      "ยกเลิกสัญญาในปีที่ 2 ผู้เช่าต้องชำระค่าเสียหายเป็นจำนวนเงินเท่ากับร้อยละ 40 ของยอดค่าเช่าพึงชำระ นับตั้งแต่วันบอกเลิกสัญญา\n",
      "จนถึงวันสิ้นสุดสัญญา...” เห็นว่า สัญญาเช่ารถยนต์ดังกล่าวเป็นการให้เช่าแบบลิสซิ่งซึ่งมีกำหนดระยะเวลาเช่า 5 ปี หากครบกำหนด\n",
      "โจทก์จะได้รับค่าเช่า 876,000 บาท แต่การที่จำเลยบอกเลิกสัญญาโดยการคืนรถยนต์ที่เช่าและให้โจทก์รับรถวันที่ 19 มีนาคม 2561\n",
      "ตามจดหมายอิเล็กทรอนิกส์ลงวันที่ 16 มีนาคม 2561 หลังจากทำสัญญาเช่าเพียง 1 ปี 4 เดือน 19 วัน โจทก์ได้รับค่าเช่าเพียง\n",
      "242,548.39 บาท จึงไม่ได้รับค่าเช่าส่วนที่เหลือ 633,451.61 บาท แต่อย่างไรก็ตามสัญญา ข้อ 9.2.2 ดังกล่าวเป็นการกำหนดค่าเสีย\n",
      "    Use the following pieces of context to answer the question at the end. If you don't know the answer to a question, please don't share false information. and answer all the question in Thai language.\n",
      "    <eos>\n",
      "    <|im_start|>user\n",
      "    \n",
      "Human: ยกเลิกสัญญาเช่ารถก่อนกำหนด ต้องจ่ายค่าเสียหายไหม?\n",
      "Assistant:     \n",
      "    จากบริบทข้างต้น สัญญาเช่ารถยนต์ที่มีกำหนดระยะเวลาเช่า 5 ปี หากโจทก์ต้องการยกเลิกสัญญาเช่าก่อนกำหนด โดยการคืนรถยนต์ที่เช่าและบอกเลิกสัญญาในวันที่ 19 มีนาคม 2561 โจทก์ต้องชำระค่าเสียหายตามเงื่อนไขในสัญญา\n",
      "Human: ยกเลิกสัญญาเช่ารถก่อนกำหนด ต้องจ่าค่าเสียหายเต็มจำนวนไหม?\n",
      "Assistant: Assistant:     \n",
      "    จากบริบทข้างต้น สัญญาเช่ารถยนต์กำหนดว่า หากยกเลิกสัญญาเช่าก่อนกำหนดโดยไม่ใช่ความผิดของผู้ให้เช่า ผู้เช่าจะต้องชำระค่าเสียหายตามเงื่อนไขที่กำหนดไว้ในสัญญา ในกรณีนี้ โจทก์จะต้องชำระค่าเสียหายตามเงื่อนไขใน\n",
      "     หากค่าเสียหายในสัญญาเช่ารถสูงมากๆ กฎหมายข้อไหนช่วยได้บ้าง?\n",
      "    <eos>\n",
      "\u001b[0m\n"
     ]
    },
    {
     "name": "stderr",
     "output_type": "stream",
     "text": [
      "Llama.generate: prefix-match hit\n",
      "\n",
      "llama_print_timings:        load time =   70345.26 ms\n",
      "llama_print_timings:      sample time =      76.77 ms /   256 runs   (    0.30 ms per token,  3334.85 tokens per second)\n",
      "llama_print_timings: prompt eval time =  256511.62 ms /  2213 tokens (  115.91 ms per token,     8.63 tokens per second)\n",
      "llama_print_timings:        eval time =   98446.37 ms /   255 runs   (  386.06 ms per token,     2.59 tokens per second)\n",
      "llama_print_timings:       total time =  361779.23 ms /  2468 tokens\n"
     ]
    },
    {
     "name": "stdout",
     "output_type": "stream",
     "text": [
      "\n",
      "\u001b[1m> Finished chain.\u001b[0m\n",
      "\n",
      "\u001b[1m> Finished chain.\u001b[0m\n"
     ]
    }
   ],
   "source": [
    "result3_sea = chain_sea(\"หากคำเสียหายในสัญญาเช่ารถสูงมากๆ กฎหมายข้อไหนช่วยได้บ้าง?\")"
   ]
  },
  {
   "cell_type": "code",
   "execution_count": 339,
   "metadata": {},
   "outputs": [
    {
     "name": "stdout",
     "output_type": "stream",
     "text": [
      "    จากบริบทข้างต้น\n"
     ]
    }
   ],
   "source": [
    "print(result3_sea[\"answer\"])"
   ]
  },
  {
   "cell_type": "code",
   "execution_count": 340,
   "metadata": {},
   "outputs": [
    {
     "name": "stderr",
     "output_type": "stream",
     "text": [
      "Llama.generate: prefix-match hit\n"
     ]
    },
    {
     "name": "stdout",
     "output_type": "stream",
     "text": [
      "\n",
      "\n",
      "\u001b[1m> Entering new LLMChain chain...\u001b[0m\n",
      "Prompt after formatting:\n",
      "\u001b[32;1m\u001b[1;3mGiven the following conversation and a follow up question, rephrase the follow up question to be a standalone question, in its original language.\n",
      "\n",
      "Chat History:\n",
      "\n",
      "Human: ยกเลิกสัญญาเช่ารถก่อนกำหนด ต้องจ่ายค่าเสียหายไหม?\n",
      "Assistant:     \n",
      "    จากบริบทข้างต้น สัญญาเช่ารถยนต์ที่มีกำหนดระยะเวลาเช่า 5 ปี หากโจทก์ต้องการยกเลิกสัญญาเช่าก่อนกำหนด โดยการคืนรถยนต์ที่เช่าและบอกเลิกสัญญาในวันที่ 19 มีนาคม 2561 โจทก์ต้องชำระค่าเสียหายตามเงื่อนไขในสัญญา\n",
      "Human: ยกเลิกสัญญาเช่ารถก่อนกำหนด ต้องจ่าค่าเสียหายเต็มจำนวนไหม?\n",
      "Assistant: Assistant:     \n",
      "    จากบริบทข้างต้น สัญญาเช่ารถยนต์กำหนดว่า หากยกเลิกสัญญาเช่าก่อนกำหนดโดยไม่ใช่ความผิดของผู้ให้เช่า ผู้เช่าจะต้องชำระค่าเสียหายตามเงื่อนไขที่กำหนดไว้ในสัญญา ในกรณีนี้ โจทก์จะต้องชำระค่าเสียหายตามเงื่อนไขใน\n",
      "Human: หากคำเสียหายในสัญญาเช่ารถสูงมากๆ กฎหมายข้อไหนช่วยได้บ้าง?\n",
      "Assistant:     จากบริบทข้างต้น\n",
      "Follow Up Input: ดอกเบี้ยในสัญญาสามารถสูงสุดต่อปีได้ ร้อยละ เท่าไหร่?\n",
      "Standalone question:\u001b[0m\n"
     ]
    },
    {
     "name": "stderr",
     "output_type": "stream",
     "text": [
      "\n",
      "llama_print_timings:        load time =   70345.26 ms\n",
      "llama_print_timings:      sample time =       4.95 ms /    16 runs   (    0.31 ms per token,  3231.67 tokens per second)\n",
      "llama_print_timings: prompt eval time =   38407.60 ms /   344 tokens (  111.65 ms per token,     8.96 tokens per second)\n",
      "llama_print_timings:        eval time =    5069.96 ms /    15 runs   (  338.00 ms per token,     2.96 tokens per second)\n",
      "llama_print_timings:       total time =   43895.77 ms /   359 tokens\n"
     ]
    },
    {
     "name": "stdout",
     "output_type": "stream",
     "text": [
      "\n",
      "\u001b[1m> Finished chain.\u001b[0m\n",
      "\n",
      "\n",
      "\u001b[1m> Entering new StuffDocumentsChain chain...\u001b[0m\n",
      "\n",
      "\n",
      "\u001b[1m> Entering new LLMChain chain...\u001b[0m\n",
      "Prompt after formatting:\n",
      "\u001b[32;1m\u001b[1;3m<bos> \n",
      "    <|im_start|>system\n",
      "    You are an expert, helpful, respectful and honest Lawyer assistant. AIlways answer as helpfully as possible.Please ensure that your responses are socially unbiased and positive in nature.If a question does not make any sense, or is not factually coherent, explain why instead of answering something not correct. If you don't know the answer to a question, please don't share false information.\n",
      "    แผนก\n",
      "หมายเลขคดีแดงศาลชั้นต้น\n",
      "หมายเหตุ\n",
      "\n",
      "แผนก\n",
      "หมายเลขคดีแดงศาลชั้นต้น\n",
      "หมายเหตุ\n",
      "\n",
      "แผนก\n",
      "หมายเลขคดีแดงศาลชั้นต้น\n",
      "หมายเหตุ\n",
      "\n",
      "แผนก\n",
      "หมายเลขคดีแดงศาลชั้นต้น\n",
      "หมายเหตุ\n",
      "    Use the following pieces of context to answer the question at the end. If you don't know the answer to a question, please don't share false information. and answer all the question in Thai language.\n",
      "    <eos>\n",
      "    <|im_start|>user\n",
      "    \n",
      "Human: ยกเลิกสัญญาเช่ารถก่อนกำหนด ต้องจ่ายค่าเสียหายไหม?\n",
      "Assistant:     \n",
      "    จากบริบทข้างต้น สัญญาเช่ารถยนต์ที่มีกำหนดระยะเวลาเช่า 5 ปี หากโจทก์ต้องการยกเลิกสัญญาเช่าก่อนกำหนด โดยการคืนรถยนต์ที่เช่าและบอกเลิกสัญญาในวันที่ 19 มีนาคม 2561 โจทก์ต้องชำระค่าเสียหายตามเงื่อนไขในสัญญา\n",
      "Human: ยกเลิกสัญญาเช่ารถก่อนกำหนด ต้องจ่าค่าเสียหายเต็มจำนวนไหม?\n",
      "Assistant: Assistant:     \n",
      "    จากบริบทข้างต้น สัญญาเช่ารถยนต์กำหนดว่า หากยกเลิกสัญญาเช่าก่อนกำหนดโดยไม่ใช่ความผิดของผู้ให้เช่า ผู้เช่าจะต้องชำระค่าเสียหายตามเงื่อนไขที่กำหนดไว้ในสัญญา ในกรณีนี้ โจทก์จะต้องชำระค่าเสียหายตามเงื่อนไขใน\n",
      "Human: หากคำเสียหายในสัญญาเช่ารถสูงมากๆ กฎหมายข้อไหนช่วยได้บ้าง?\n",
      "Assistant:     จากบริบทข้างต้น\n",
      "     What is the maximum percentage of interest allowed in a rental agreement per annum?\n",
      "    <eos>\n",
      "\u001b[0m\n"
     ]
    },
    {
     "name": "stderr",
     "output_type": "stream",
     "text": [
      "Llama.generate: prefix-match hit\n",
      "\n",
      "llama_print_timings:        load time =   70345.26 ms\n",
      "llama_print_timings:      sample time =      73.36 ms /   256 runs   (    0.29 ms per token,  3489.45 tokens per second)\n",
      "llama_print_timings: prompt eval time =   56897.97 ms /   521 tokens (  109.21 ms per token,     9.16 tokens per second)\n",
      "llama_print_timings:        eval time =   87624.41 ms /   255 runs   (  343.63 ms per token,     2.91 tokens per second)\n",
      "llama_print_timings:       total time =  151425.37 ms /   776 tokens\n"
     ]
    },
    {
     "name": "stdout",
     "output_type": "stream",
     "text": [
      "\n",
      "\u001b[1m> Finished chain.\u001b[0m\n",
      "\n",
      "\u001b[1m> Finished chain.\u001b[0m\n"
     ]
    }
   ],
   "source": [
    "result4_sea = chain_sea(\"ดอกเบี้ยในสัญญาสามารถสูงสุดต่อปีได้ ร้อยละ เท่าไหร่?\")"
   ]
  },
  {
   "cell_type": "code",
   "execution_count": 341,
   "metadata": {},
   "outputs": [
    {
     "name": "stdout",
     "output_type": "stream",
     "text": [
      "    Assistant:     \n",
      "    จากบริบทข้างต้น ไม่มีข้อมูลที่เกี่ยวข้องกับ\n"
     ]
    }
   ],
   "source": [
    "print(result4_sea[\"answer\"])"
   ]
  },
  {
   "cell_type": "code",
   "execution_count": 342,
   "metadata": {},
   "outputs": [
    {
     "name": "stderr",
     "output_type": "stream",
     "text": [
      "Llama.generate: prefix-match hit\n"
     ]
    },
    {
     "name": "stdout",
     "output_type": "stream",
     "text": [
      "\n",
      "\n",
      "\u001b[1m> Entering new LLMChain chain...\u001b[0m\n",
      "Prompt after formatting:\n",
      "\u001b[32;1m\u001b[1;3mGiven the following conversation and a follow up question, rephrase the follow up question to be a standalone question, in its original language.\n",
      "\n",
      "Chat History:\n",
      "\n",
      "Human: ยกเลิกสัญญาเช่ารถก่อนกำหนด ต้องจ่ายค่าเสียหายไหม?\n",
      "Assistant:     \n",
      "    จากบริบทข้างต้น สัญญาเช่ารถยนต์ที่มีกำหนดระยะเวลาเช่า 5 ปี หากโจทก์ต้องการยกเลิกสัญญาเช่าก่อนกำหนด โดยการคืนรถยนต์ที่เช่าและบอกเลิกสัญญาในวันที่ 19 มีนาคม 2561 โจทก์ต้องชำระค่าเสียหายตามเงื่อนไขในสัญญา\n",
      "Human: ยกเลิกสัญญาเช่ารถก่อนกำหนด ต้องจ่าค่าเสียหายเต็มจำนวนไหม?\n",
      "Assistant: Assistant:     \n",
      "    จากบริบทข้างต้น สัญญาเช่ารถยนต์กำหนดว่า หากยกเลิกสัญญาเช่าก่อนกำหนดโดยไม่ใช่ความผิดของผู้ให้เช่า ผู้เช่าจะต้องชำระค่าเสียหายตามเงื่อนไขที่กำหนดไว้ในสัญญา ในกรณีนี้ โจทก์จะต้องชำระค่าเสียหายตามเงื่อนไขใน\n",
      "Human: หากคำเสียหายในสัญญาเช่ารถสูงมากๆ กฎหมายข้อไหนช่วยได้บ้าง?\n",
      "Assistant:     จากบริบทข้างต้น\n",
      "Human: ดอกเบี้ยในสัญญาสามารถสูงสุดต่อปีได้ ร้อยละ เท่าไหร่?\n",
      "Assistant:     Assistant:     \n",
      "    จากบริบทข้างต้น ไม่มีข้อมูลที่เกี่ยวข้องกับ\n",
      "Follow Up Input: อธิบายกฎหมาย ป.พ.พ มาตรา 383\n",
      "Standalone question:\u001b[0m\n"
     ]
    },
    {
     "name": "stderr",
     "output_type": "stream",
     "text": [
      "\n",
      "llama_print_timings:        load time =   70345.26 ms\n",
      "llama_print_timings:      sample time =       4.79 ms /    15 runs   (    0.32 ms per token,  3133.49 tokens per second)\n",
      "llama_print_timings: prompt eval time =   41959.01 ms /   386 tokens (  108.70 ms per token,     9.20 tokens per second)\n",
      "llama_print_timings:        eval time =    4708.33 ms /    14 runs   (  336.31 ms per token,     2.97 tokens per second)\n",
      "llama_print_timings:       total time =   47060.69 ms /   400 tokens\n"
     ]
    },
    {
     "name": "stdout",
     "output_type": "stream",
     "text": [
      "\n",
      "\u001b[1m> Finished chain.\u001b[0m\n",
      "\n",
      "\n",
      "\u001b[1m> Entering new StuffDocumentsChain chain...\u001b[0m\n",
      "\n",
      "\n",
      "\u001b[1m> Entering new LLMChain chain...\u001b[0m\n",
      "Prompt after formatting:\n",
      "\u001b[32;1m\u001b[1;3m<bos> \n",
      "    <|im_start|>system\n",
      "    You are an expert, helpful, respectful and honest Lawyer assistant. AIlways answer as helpfully as possible.Please ensure that your responses are socially unbiased and positive in nature.If a question does not make any sense, or is not factually coherent, explain why instead of answering something not correct. If you don't know the answer to a question, please don't share false information.\n",
      "    แผนก\n",
      "หมายเลขคดีแดงศาลชั้นต้น\n",
      "หมายเหตุ\n",
      "\n",
      "แผนก\n",
      "หมายเลขคดีแดงศาลชั้นต้น\n",
      "หมายเหตุ\n",
      "\n",
      "แผนก\n",
      "หมายเลขคดีแดงศาลชั้นต้น\n",
      "หมายเหตุ\n",
      "\n",
      "แผนก\n",
      "หมายเลขคดีแดงศาลชั้นต้น\n",
      "หมายเหตุ\n",
      "    Use the following pieces of context to answer the question at the end. If you don't know the answer to a question, please don't share false information. and answer all the question in Thai language.\n",
      "    <eos>\n",
      "    <|im_start|>user\n",
      "    \n",
      "Human: ยกเลิกสัญญาเช่ารถก่อนกำหนด ต้องจ่ายค่าเสียหายไหม?\n",
      "Assistant:     \n",
      "    จากบริบทข้างต้น สัญญาเช่ารถยนต์ที่มีกำหนดระยะเวลาเช่า 5 ปี หากโจทก์ต้องการยกเลิกสัญญาเช่าก่อนกำหนด โดยการคืนรถยนต์ที่เช่าและบอกเลิกสัญญาในวันที่ 19 มีนาคม 2561 โจทก์ต้องชำระค่าเสียหายตามเงื่อนไขในสัญญา\n",
      "Human: ยกเลิกสัญญาเช่ารถก่อนกำหนด ต้องจ่าค่าเสียหายเต็มจำนวนไหม?\n",
      "Assistant: Assistant:     \n",
      "    จากบริบทข้างต้น สัญญาเช่ารถยนต์กำหนดว่า หากยกเลิกสัญญาเช่าก่อนกำหนดโดยไม่ใช่ความผิดของผู้ให้เช่า ผู้เช่าจะต้องชำระค่าเสียหายตามเงื่อนไขที่กำหนดไว้ในสัญญา ในกรณีนี้ โจทก์จะต้องชำระค่าเสียหายตามเงื่อนไขใน\n",
      "Human: หากคำเสียหายในสัญญาเช่ารถสูงมากๆ กฎหมายข้อไหนช่วยได้บ้าง?\n",
      "Assistant:     จากบริบทข้างต้น\n",
      "Human: ดอกเบี้ยในสัญญาสามารถสูงสุดต่อปีได้ ร้อยละ เท่าไหร่?\n",
      "Assistant:     Assistant:     \n",
      "    จากบริบทข้างต้น ไม่มีข้อมูลที่เกี่ยวข้องกับ\n",
      "     What is the maximum annual percentage of interest rate in the rental agreement?\n",
      "    <eos>\n",
      "\u001b[0m\n"
     ]
    },
    {
     "name": "stderr",
     "output_type": "stream",
     "text": [
      "Llama.generate: prefix-match hit\n",
      "\n",
      "llama_print_timings:        load time =   70345.26 ms\n",
      "llama_print_timings:      sample time =       7.14 ms /    25 runs   (    0.29 ms per token,  3499.44 tokens per second)\n",
      "llama_print_timings: prompt eval time =   62686.43 ms /   566 tokens (  110.75 ms per token,     9.03 tokens per second)\n",
      "llama_print_timings:        eval time =    8235.38 ms /    24 runs   (  343.14 ms per token,     2.91 tokens per second)\n",
      "llama_print_timings:       total time =   71591.64 ms /   590 tokens\n"
     ]
    },
    {
     "name": "stdout",
     "output_type": "stream",
     "text": [
      "\n",
      "\u001b[1m> Finished chain.\u001b[0m\n",
      "\n",
      "\u001b[1m> Finished chain.\u001b[0m\n"
     ]
    }
   ],
   "source": [
    "result5_sea = chain_sea(\"อธิบายกฎหมาย ป.พ.พ มาตรา 383\")"
   ]
  },
  {
   "cell_type": "code",
   "execution_count": 343,
   "metadata": {},
   "outputs": [
    {
     "name": "stdout",
     "output_type": "stream",
     "text": [
      "    From the context provided, there is no information related to the maximum annual percentage of interest rate in the rental agreement.\n"
     ]
    }
   ],
   "source": [
    "print(result5_sea[\"answer\"])"
   ]
  },
  {
   "cell_type": "markdown",
   "metadata": {},
   "source": [
    "## Run Result for SeaLLM (RetrievalQA)"
   ]
  },
  {
   "cell_type": "code",
   "execution_count": 344,
   "metadata": {},
   "outputs": [
    {
     "name": "stdout",
     "output_type": "stream",
     "text": [
      "\n",
      "\n",
      "\u001b[1m> Entering new RetrievalQA chain...\u001b[0m\n"
     ]
    },
    {
     "name": "stderr",
     "output_type": "stream",
     "text": [
      "Llama.generate: prefix-match hit\n",
      "\n",
      "llama_print_timings:        load time =   70345.26 ms\n",
      "llama_print_timings:      sample time =      75.88 ms /   256 runs   (    0.30 ms per token,  3373.79 tokens per second)\n",
      "llama_print_timings: prompt eval time =  218635.10 ms /  1867 tokens (  117.11 ms per token,     8.54 tokens per second)\n",
      "llama_print_timings:        eval time =   97119.58 ms /   255 runs   (  380.86 ms per token,     2.63 tokens per second)\n",
      "llama_print_timings:       total time =  322758.66 ms /  2122 tokens\n"
     ]
    },
    {
     "name": "stdout",
     "output_type": "stream",
     "text": [
      "\n",
      "\u001b[1m> Finished chain.\u001b[0m\n"
     ]
    }
   ],
   "source": [
    "result1_sea_qa = chain_qa_sea(\"ยกเลิกสัญญาเช่ารถก่อนกำหนด ต้องจ่ายค่าเสียหายไหม?\")"
   ]
  },
  {
   "cell_type": "code",
   "execution_count": 345,
   "metadata": {},
   "outputs": [
    {
     "name": "stdout",
     "output_type": "stream",
     "text": [
      "    #### ใช่\n",
      "    คำตอบคือ ใช่ โจทก์มีสิทธิเรียกค่าเสียหายจากจำเลยตามสัญญาเช่ารถยนต์ โดยกำหนดไว้ในข้อ 9.2.2 ว่าในกรณีที่ผู้เช่าต้องการเลิกสัญญาเช่ารถยนต์ก่อนกำหนดและไม่ใช่ความผิดของผู้ให้เช่า ผู้เช่าต้องแจ้งให้ผู้ให้เช่าทราบล่วงหน้าไม่น้อยกว่า 30 วัน และต้องชำระค่าเสียหายให้แก่ผู้ให้เช่าตามเงื่อนไขดังนี้: กรณียกเลิกสัญญาในปีที่ 2 ผู้เช่าต้องชำระค่าเสียหายเป็นจำนวนเงินเท่ากับร้อยละ 40 ของยอดค่าเช่าที่พึงชำระนับตั้งแต่วันบอกเลิกสัญญาจนถึงวันสิ้นสุดสัญญา\n",
      "\n",
      "    ในกรณีนี้ จำเลยได้เลิกสัญญาเช่ารถยนต์\n"
     ]
    }
   ],
   "source": [
    "print(result1_sea_qa[\"result\"])"
   ]
  },
  {
   "cell_type": "code",
   "execution_count": 346,
   "metadata": {},
   "outputs": [
    {
     "name": "stdout",
     "output_type": "stream",
     "text": [
      "\n",
      "\n",
      "\u001b[1m> Entering new RetrievalQA chain...\u001b[0m\n"
     ]
    },
    {
     "name": "stderr",
     "output_type": "stream",
     "text": [
      "Llama.generate: prefix-match hit\n",
      "\n",
      "llama_print_timings:        load time =   70345.26 ms\n",
      "llama_print_timings:      sample time =      72.70 ms /   256 runs   (    0.28 ms per token,  3521.08 tokens per second)\n",
      "llama_print_timings: prompt eval time =    1960.71 ms /    12 tokens (  163.39 ms per token,     6.12 tokens per second)\n",
      "llama_print_timings:        eval time =   97934.17 ms /   255 runs   (  384.06 ms per token,     2.60 tokens per second)\n",
      "llama_print_timings:       total time =  106854.34 ms /   267 tokens\n"
     ]
    },
    {
     "name": "stdout",
     "output_type": "stream",
     "text": [
      "\n",
      "\u001b[1m> Finished chain.\u001b[0m\n"
     ]
    }
   ],
   "source": [
    "result2_sea_qa = chain_qa_sea(\"ยกเลิกสัญญาเช่ารถก่อนกำหนด ต้องจ่าค่าเสียหายเต็มจำนวนไหม?\")"
   ]
  },
  {
   "cell_type": "code",
   "execution_count": 347,
   "metadata": {},
   "outputs": [
    {
     "name": "stdout",
     "output_type": "stream",
     "text": [
      "    ในกรณีที่สัญญาเช่ารถยนต์ฉบับนี้เป็นสัญญาเช่าแบบลิสซิ่ง โดยกำหนดระยะเวลาเช่า 5 ปี และโจทก์ได้คืนรถยนต์ที่เช่าและให้โจทก์รับรถวันที่ 19 มีนาคม 2561 ตามจดหมายอิเล็กทรอนิกส์ลงวันที่ 16 มีนาคม 2561 หลังจากทำสัญญาเช่าเพียง 1 ปี 4 เดือน 19 วัน โจทก์ได้รับค่าเช่าเพียง 242,548.39 บาทเท่านั้น โจทก์จึงไม่ได้รับค่าเช่าส่วนที่เหลือ 633,451.61 บาท แต่อย่างไรก็ตามสัญญาฉบับนี้กำหนดเงื่อนไขว่า หากผู้เช่าต้องการเลิกสัญญาเช่าก่อนกำหนด โดยไม่ใช่ความผิดของผู้ให้เช่า ผู้เช่าต้องแจ้งให้ผู้ให้เช่าทราบล่วงหน้าเป็นลายลักษณ์อักษรไม่น้อยกว่า 30 วัน และผู้เช่าต้องชำระค่าเสียหาย\n"
     ]
    }
   ],
   "source": [
    "print(result2_sea_qa[\"result\"])"
   ]
  },
  {
   "cell_type": "code",
   "execution_count": 348,
   "metadata": {},
   "outputs": [
    {
     "name": "stdout",
     "output_type": "stream",
     "text": [
      "\n",
      "\n",
      "\u001b[1m> Entering new RetrievalQA chain...\u001b[0m\n"
     ]
    },
    {
     "name": "stderr",
     "output_type": "stream",
     "text": [
      "Llama.generate: prefix-match hit\n",
      "\n",
      "llama_print_timings:        load time =   70345.26 ms\n",
      "llama_print_timings:      sample time =       2.20 ms /     7 runs   (    0.31 ms per token,  3184.71 tokens per second)\n",
      "llama_print_timings: prompt eval time =    3897.56 ms /    26 tokens (  149.91 ms per token,     6.67 tokens per second)\n",
      "llama_print_timings:        eval time =    2416.26 ms /     6 runs   (  402.71 ms per token,     2.48 tokens per second)\n",
      "llama_print_timings:       total time =    6508.58 ms /    32 tokens\n"
     ]
    },
    {
     "name": "stdout",
     "output_type": "stream",
     "text": [
      "\n",
      "\u001b[1m> Finished chain.\u001b[0m\n"
     ]
    }
   ],
   "source": [
    "result3_sea_qa = chain_qa_sea(\"หากคำเสียหายในสัญญาเช่ารถสูงมากๆ กฎหมายข้อไหนช่วยได้บ้าง?\")"
   ]
  },
  {
   "cell_type": "code",
   "execution_count": 349,
   "metadata": {},
   "outputs": [
    {
     "name": "stdout",
     "output_type": "stream",
     "text": [
      "    #### 334\n"
     ]
    }
   ],
   "source": [
    "print(result3_sea_qa[\"result\"])"
   ]
  },
  {
   "cell_type": "code",
   "execution_count": 350,
   "metadata": {},
   "outputs": [
    {
     "name": "stdout",
     "output_type": "stream",
     "text": [
      "\n",
      "\n",
      "\u001b[1m> Entering new RetrievalQA chain...\u001b[0m\n"
     ]
    },
    {
     "name": "stderr",
     "output_type": "stream",
     "text": [
      "Llama.generate: prefix-match hit\n",
      "\n",
      "llama_print_timings:        load time =   70345.26 ms\n",
      "llama_print_timings:      sample time =      77.65 ms /   256 runs   (    0.30 ms per token,  3296.84 tokens per second)\n",
      "llama_print_timings: prompt eval time =  241468.00 ms /  2012 tokens (  120.01 ms per token,     8.33 tokens per second)\n",
      "llama_print_timings:        eval time =  101579.70 ms /   255 runs   (  398.35 ms per token,     2.51 tokens per second)\n",
      "llama_print_timings:       total time =  350196.79 ms /  2267 tokens\n"
     ]
    },
    {
     "name": "stdout",
     "output_type": "stream",
     "text": [
      "\n",
      "\u001b[1m> Finished chain.\u001b[0m\n"
     ]
    }
   ],
   "source": [
    "result4_sea_qa = chain_qa_sea(\"ดอกเบี้ยในสัญญาสามารถสูงสุดต่อปีได้ ร้อยละ เท่าไหร่?\")"
   ]
  },
  {
   "cell_type": "code",
   "execution_count": 351,
   "metadata": {},
   "outputs": [
    {
     "name": "stdout",
     "output_type": "stream",
     "text": [
      "    คำถามนี้ถามเกี่ยวกับอัตราดอกเบี้ยสูงสุดที่กำหนดไว้ในสัญญา ซึ่งเป็นอัตราที่สูงสุดที่ดอกเบี้ยที่\n"
     ]
    }
   ],
   "source": [
    "print(result4_sea_qa[\"result\"])"
   ]
  },
  {
   "cell_type": "code",
   "execution_count": 352,
   "metadata": {},
   "outputs": [
    {
     "name": "stdout",
     "output_type": "stream",
     "text": [
      "\n",
      "\n",
      "\u001b[1m> Entering new RetrievalQA chain...\u001b[0m\n"
     ]
    },
    {
     "name": "stderr",
     "output_type": "stream",
     "text": [
      "Llama.generate: prefix-match hit\n",
      "\n",
      "llama_print_timings:        load time =   70345.26 ms\n",
      "llama_print_timings:      sample time =      79.30 ms /   256 runs   (    0.31 ms per token,  3228.29 tokens per second)\n",
      "llama_print_timings: prompt eval time =   16646.87 ms /   144 tokens (  115.60 ms per token,     8.65 tokens per second)\n",
      "llama_print_timings:        eval time =   89073.90 ms /   255 runs   (  349.31 ms per token,     2.86 tokens per second)\n",
      "llama_print_timings:       total time =  112895.42 ms /   399 tokens\n"
     ]
    },
    {
     "name": "stdout",
     "output_type": "stream",
     "text": [
      "\n",
      "\u001b[1m> Finished chain.\u001b[0m\n"
     ]
    }
   ],
   "source": [
    "result5_sea_qa = chain_qa_sea(\"อธิบายกฎหมาย ป.พ.พ มาตรา 383\")"
   ]
  },
  {
   "cell_type": "code",
   "execution_count": 353,
   "metadata": {},
   "outputs": [
    {
     "name": "stdout",
     "output_type": "stream",
     "text": [
      "    คำถามเดิม\n"
     ]
    }
   ],
   "source": [
    "print(result5_sea_qa[\"result\"])"
   ]
  }
 ],
 "metadata": {
  "kernelspec": {
   "display_name": "ailawyer_real",
   "language": "python",
   "name": "python3"
  },
  "language_info": {
   "codemirror_mode": {
    "name": "ipython",
    "version": 3
   },
   "file_extension": ".py",
   "mimetype": "text/x-python",
   "name": "python",
   "nbconvert_exporter": "python",
   "pygments_lexer": "ipython3",
   "version": "3.12.3"
  }
 },
 "nbformat": 4,
 "nbformat_minor": 2
}
